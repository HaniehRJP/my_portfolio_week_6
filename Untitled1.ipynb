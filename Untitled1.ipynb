{
 "cells": [
  {
   "cell_type": "code",
   "execution_count": 1,
   "id": "f31d9132",
   "metadata": {},
   "outputs": [],
   "source": [
    "from bs4 import BeautifulSoup\n",
    "import requests\n",
    "import pandas as pd"
   ]
  },
  {
   "cell_type": "code",
   "execution_count": 2,
   "id": "8e12bea6",
   "metadata": {},
   "outputs": [
    {
     "data": {
      "text/plain": [
       "200"
      ]
     },
     "execution_count": 2,
     "metadata": {},
     "output_type": "execute_result"
    }
   ],
   "source": [
    "url = 'https://www.nytimes.com/books/best-sellers/hardcover-nonfiction/'\n",
    "response = requests.get(url)\n",
    "soup = BeautifulSoup(response.content)\n",
    "response.status_code"
   ]
  },
  {
   "cell_type": "code",
   "execution_count": 10,
   "id": "0e3fa3ef",
   "metadata": {},
   "outputs": [
    {
     "data": {
      "text/plain": [
       "[<h3 class=\"css-5pe77f\" itemprop=\"name\">THE WAGER</h3>,\n",
       " <h3 class=\"css-5pe77f\" itemprop=\"name\">OATH AND HONOR</h3>,\n",
       " <h3 class=\"css-5pe77f\" itemprop=\"name\">OUTLIVE</h3>,\n",
       " <h3 class=\"css-5pe77f\" itemprop=\"name\">THE WOMAN IN ME</h3>,\n",
       " <h3 class=\"css-5pe77f\" itemprop=\"name\">THE KINGDOM, THE POWER, AND THE GLORY</h3>,\n",
       " <h3 class=\"css-5pe77f\" itemprop=\"name\">FRIENDS, LOVERS, AND THE BIG TERRIBLE THING</h3>,\n",
       " <h3 class=\"css-5pe77f\" itemprop=\"name\">MADNESS</h3>,\n",
       " <h3 class=\"css-5pe77f\" itemprop=\"name\">ELON MUSK</h3>,\n",
       " <h3 class=\"css-5pe77f\" itemprop=\"name\">READ WRITE OWN</h3>,\n",
       " <h3 class=\"css-5pe77f\" itemprop=\"name\">THE GRIFT</h3>,\n",
       " <h3 class=\"css-5pe77f\" itemprop=\"name\">THE IN-BETWEEN</h3>,\n",
       " <h3 class=\"css-5pe77f\" itemprop=\"name\">FIND ME THE VOTES</h3>,\n",
       " <h3 class=\"css-5pe77f\" itemprop=\"name\">LEGACY</h3>,\n",
       " <h3 class=\"css-5pe77f\" itemprop=\"name\">I'M GLAD MY MOM DIED</h3>,\n",
       " <h3 class=\"css-5pe77f\" itemprop=\"name\">OUR HIDDEN CONVERSATIONS</h3>]"
      ]
     },
     "execution_count": 10,
     "metadata": {},
     "output_type": "execute_result"
    }
   ],
   "source": [
    "soup.select('h3.css-5pe77f')"
   ]
  },
  {
   "cell_type": "code",
   "execution_count": 8,
   "id": "ea4b12e0",
   "metadata": {},
   "outputs": [],
   "source": [
    "titles = []\n",
    "for name in soup.select('h3.css-5pe77f'):\n",
    "    titles.append(name.get_text())"
   ]
  },
  {
   "cell_type": "code",
   "execution_count": 9,
   "id": "c8048892",
   "metadata": {},
   "outputs": [
    {
     "data": {
      "text/plain": [
       "['THE WAGER',\n",
       " 'OATH AND HONOR',\n",
       " 'OUTLIVE',\n",
       " 'THE WOMAN IN ME',\n",
       " 'THE KINGDOM, THE POWER, AND THE GLORY',\n",
       " 'FRIENDS, LOVERS, AND THE BIG TERRIBLE THING',\n",
       " 'MADNESS',\n",
       " 'ELON MUSK',\n",
       " 'READ WRITE OWN',\n",
       " 'THE GRIFT',\n",
       " 'THE IN-BETWEEN',\n",
       " 'FIND ME THE VOTES',\n",
       " 'LEGACY',\n",
       " \"I'M GLAD MY MOM DIED\",\n",
       " 'OUR HIDDEN CONVERSATIONS']"
      ]
     },
     "execution_count": 9,
     "metadata": {},
     "output_type": "execute_result"
    }
   ],
   "source": [
    "titles"
   ]
  },
  {
   "cell_type": "code",
   "execution_count": 11,
   "id": "fe1adb71",
   "metadata": {},
   "outputs": [
    {
     "data": {
      "text/plain": [
       "[<p class=\"css-hjukut\" itemprop=\"author\">by David Grann</p>,\n",
       " <p class=\"css-hjukut\" itemprop=\"author\">by Liz Cheney</p>,\n",
       " <p class=\"css-hjukut\" itemprop=\"author\">by Peter Attia with Bill Gifford</p>,\n",
       " <p class=\"css-hjukut\" itemprop=\"author\">by Britney Spears</p>,\n",
       " <p class=\"css-hjukut\" itemprop=\"author\">by Tim Alberta</p>,\n",
       " <p class=\"css-hjukut\" itemprop=\"author\">by Matthew Perry</p>,\n",
       " <p class=\"css-hjukut\" itemprop=\"author\">by Antonia Hylton</p>,\n",
       " <p class=\"css-hjukut\" itemprop=\"author\">by Walter Isaacson</p>,\n",
       " <p class=\"css-hjukut\" itemprop=\"author\">by Chris Dixon</p>,\n",
       " <p class=\"css-hjukut\" itemprop=\"author\">by Clay Cane</p>,\n",
       " <p class=\"css-hjukut\" itemprop=\"author\">by Hadley Vlahos</p>,\n",
       " <p class=\"css-hjukut\" itemprop=\"author\">by Michael Isikoff and Daniel Klaidman</p>,\n",
       " <p class=\"css-hjukut\" itemprop=\"author\">by Uché Blackstock</p>,\n",
       " <p class=\"css-hjukut\" itemprop=\"author\">by Jennette McCurdy</p>,\n",
       " <p class=\"css-hjukut\" itemprop=\"author\">by Michele Norris</p>]"
      ]
     },
     "execution_count": 11,
     "metadata": {},
     "output_type": "execute_result"
    }
   ],
   "source": [
    "soup.select('p.css-hjukut')"
   ]
  },
  {
   "cell_type": "code",
   "execution_count": 12,
   "id": "5a94808f",
   "metadata": {},
   "outputs": [
    {
     "data": {
      "text/plain": [
       "['by David Grann',\n",
       " 'by Liz Cheney',\n",
       " 'by Peter Attia with Bill Gifford',\n",
       " 'by Britney Spears',\n",
       " 'by Tim Alberta',\n",
       " 'by Matthew Perry',\n",
       " 'by Antonia Hylton',\n",
       " 'by Walter Isaacson',\n",
       " 'by Chris Dixon',\n",
       " 'by Clay Cane',\n",
       " 'by Hadley Vlahos',\n",
       " 'by Michael Isikoff and Daniel Klaidman',\n",
       " 'by Uché Blackstock',\n",
       " 'by Jennette McCurdy',\n",
       " 'by Michele Norris']"
      ]
     },
     "execution_count": 12,
     "metadata": {},
     "output_type": "execute_result"
    }
   ],
   "source": [
    "authors = []\n",
    "for author in soup.select('p.css-hjukut'):\n",
    "    authors.append(author.get_text())\n",
    "authors"
   ]
  },
  {
   "cell_type": "code",
   "execution_count": 14,
   "id": "57296a8b",
   "metadata": {},
   "outputs": [],
   "source": [
    "#retreive the description of the book :\n",
    "#create the dataframe with 3 columns:\n",
    "#title\n",
    "#author\n",
    "#description "
   ]
  },
  {
   "cell_type": "code",
   "execution_count": 15,
   "id": "50d03c0b",
   "metadata": {},
   "outputs": [],
   "source": [
    "#Clean the data with the following steps:\n",
    "#capitalize the title (lowecase + capitalized)\n",
    "#remove 'by' from the author"
   ]
  },
  {
   "cell_type": "code",
   "execution_count": 18,
   "id": "c39c78df",
   "metadata": {},
   "outputs": [
    {
     "data": {
      "text/plain": [
       "['The survivors of a shipwrecked British vessel on a secret mission during an imperial war with Spain have different accounts of events.',\n",
       " 'The former congresswoman from Wyoming recounts how she helped lead the Select Committee to Investigate the Jan. 6. Attack on the United States Capitol.',\n",
       " 'A look at recent scientific research on aging and longevity.',\n",
       " 'The Grammy Award-winning pop star details her personal and professional experiences, including the years she spent under a conservatorship overseen by her father.',\n",
       " 'The author of “American Carnage” looks at divisions within the American evangelical movement.',\n",
       " 'The late actor, known for playing Chandler Bing on “Friends,” shares stories from his childhood and his struggles with sobriety.',\n",
       " 'A Peabody and Emmy award-winning journalist unearths the 93-year-old history of a segregated asylum in Maryland.',\n",
       " 'The author of “The Code Breaker” traces Musk’s life and summarizes his work on electric vehicles, private space exploration and artificial intelligence.',\n",
       " 'A technology entrepreneur describes three eras of the internet and argues in favor of blockchain networks.',\n",
       " 'An overview of Black Republicanism from the time of President Lincoln to the present.',\n",
       " \"A hospice nurse shares some of her most impactful experiences and questions some of society's beliefs around end-of-life care.\",\n",
       " 'An account of former President Trump’s attempt to overturn the 2020 election and a Georgia prosecutor’s decision to indict him and his allies.',\n",
       " 'A Black physician details systemic barriers and inequities that affect Black patients and doctors.',\n",
       " 'The actress and filmmaker describes her eating disorders and difficult relationship with her mother.',\n",
       " 'Stories, essays and photographs exploring race and identity in America.']"
      ]
     },
     "execution_count": 18,
     "metadata": {},
     "output_type": "execute_result"
    }
   ],
   "source": [
    "Descriptions = []\n",
    "for description in soup.select('p.css-14lubdp'):\n",
    "    Descriptions.append(description.get_text())\n",
    "Descriptions"
   ]
  },
  {
   "cell_type": "code",
   "execution_count": 20,
   "id": "0149059f",
   "metadata": {},
   "outputs": [
    {
     "data": {
      "text/html": [
       "<div>\n",
       "<style scoped>\n",
       "    .dataframe tbody tr th:only-of-type {\n",
       "        vertical-align: middle;\n",
       "    }\n",
       "\n",
       "    .dataframe tbody tr th {\n",
       "        vertical-align: top;\n",
       "    }\n",
       "\n",
       "    .dataframe thead th {\n",
       "        text-align: right;\n",
       "    }\n",
       "</style>\n",
       "<table border=\"1\" class=\"dataframe\">\n",
       "  <thead>\n",
       "    <tr style=\"text-align: right;\">\n",
       "      <th></th>\n",
       "      <th>title</th>\n",
       "      <th>author</th>\n",
       "      <th>description</th>\n",
       "    </tr>\n",
       "  </thead>\n",
       "  <tbody>\n",
       "    <tr>\n",
       "      <th>0</th>\n",
       "      <td>THE WAGER</td>\n",
       "      <td>by David Grann</td>\n",
       "      <td>The survivors of a shipwrecked British vessel ...</td>\n",
       "    </tr>\n",
       "    <tr>\n",
       "      <th>1</th>\n",
       "      <td>OATH AND HONOR</td>\n",
       "      <td>by Liz Cheney</td>\n",
       "      <td>The former congresswoman from Wyoming recounts...</td>\n",
       "    </tr>\n",
       "    <tr>\n",
       "      <th>2</th>\n",
       "      <td>OUTLIVE</td>\n",
       "      <td>by Peter Attia with Bill Gifford</td>\n",
       "      <td>A look at recent scientific research on aging ...</td>\n",
       "    </tr>\n",
       "    <tr>\n",
       "      <th>3</th>\n",
       "      <td>THE WOMAN IN ME</td>\n",
       "      <td>by Britney Spears</td>\n",
       "      <td>The Grammy Award-winning pop star details her ...</td>\n",
       "    </tr>\n",
       "    <tr>\n",
       "      <th>4</th>\n",
       "      <td>THE KINGDOM, THE POWER, AND THE GLORY</td>\n",
       "      <td>by Tim Alberta</td>\n",
       "      <td>The author of “American Carnage” looks at divi...</td>\n",
       "    </tr>\n",
       "    <tr>\n",
       "      <th>5</th>\n",
       "      <td>FRIENDS, LOVERS, AND THE BIG TERRIBLE THING</td>\n",
       "      <td>by Matthew Perry</td>\n",
       "      <td>The late actor, known for playing Chandler Bin...</td>\n",
       "    </tr>\n",
       "    <tr>\n",
       "      <th>6</th>\n",
       "      <td>MADNESS</td>\n",
       "      <td>by Antonia Hylton</td>\n",
       "      <td>A Peabody and Emmy award-winning journalist un...</td>\n",
       "    </tr>\n",
       "    <tr>\n",
       "      <th>7</th>\n",
       "      <td>ELON MUSK</td>\n",
       "      <td>by Walter Isaacson</td>\n",
       "      <td>The author of “The Code Breaker” traces Musk’s...</td>\n",
       "    </tr>\n",
       "    <tr>\n",
       "      <th>8</th>\n",
       "      <td>READ WRITE OWN</td>\n",
       "      <td>by Chris Dixon</td>\n",
       "      <td>A technology entrepreneur describes three eras...</td>\n",
       "    </tr>\n",
       "    <tr>\n",
       "      <th>9</th>\n",
       "      <td>THE GRIFT</td>\n",
       "      <td>by Clay Cane</td>\n",
       "      <td>An overview of Black Republicanism from the ti...</td>\n",
       "    </tr>\n",
       "    <tr>\n",
       "      <th>10</th>\n",
       "      <td>THE IN-BETWEEN</td>\n",
       "      <td>by Hadley Vlahos</td>\n",
       "      <td>A hospice nurse shares some of her most impact...</td>\n",
       "    </tr>\n",
       "    <tr>\n",
       "      <th>11</th>\n",
       "      <td>FIND ME THE VOTES</td>\n",
       "      <td>by Michael Isikoff and Daniel Klaidman</td>\n",
       "      <td>An account of former President Trump’s attempt...</td>\n",
       "    </tr>\n",
       "    <tr>\n",
       "      <th>12</th>\n",
       "      <td>LEGACY</td>\n",
       "      <td>by Uché Blackstock</td>\n",
       "      <td>A Black physician details systemic barriers an...</td>\n",
       "    </tr>\n",
       "    <tr>\n",
       "      <th>13</th>\n",
       "      <td>I'M GLAD MY MOM DIED</td>\n",
       "      <td>by Jennette McCurdy</td>\n",
       "      <td>The actress and filmmaker describes her eating...</td>\n",
       "    </tr>\n",
       "    <tr>\n",
       "      <th>14</th>\n",
       "      <td>OUR HIDDEN CONVERSATIONS</td>\n",
       "      <td>by Michele Norris</td>\n",
       "      <td>Stories, essays and photographs exploring race...</td>\n",
       "    </tr>\n",
       "  </tbody>\n",
       "</table>\n",
       "</div>"
      ],
      "text/plain": [
       "                                          title  \\\n",
       "0                                     THE WAGER   \n",
       "1                                OATH AND HONOR   \n",
       "2                                       OUTLIVE   \n",
       "3                               THE WOMAN IN ME   \n",
       "4         THE KINGDOM, THE POWER, AND THE GLORY   \n",
       "5   FRIENDS, LOVERS, AND THE BIG TERRIBLE THING   \n",
       "6                                       MADNESS   \n",
       "7                                     ELON MUSK   \n",
       "8                                READ WRITE OWN   \n",
       "9                                     THE GRIFT   \n",
       "10                               THE IN-BETWEEN   \n",
       "11                            FIND ME THE VOTES   \n",
       "12                                       LEGACY   \n",
       "13                         I'M GLAD MY MOM DIED   \n",
       "14                     OUR HIDDEN CONVERSATIONS   \n",
       "\n",
       "                                    author  \\\n",
       "0                           by David Grann   \n",
       "1                            by Liz Cheney   \n",
       "2         by Peter Attia with Bill Gifford   \n",
       "3                        by Britney Spears   \n",
       "4                           by Tim Alberta   \n",
       "5                         by Matthew Perry   \n",
       "6                        by Antonia Hylton   \n",
       "7                       by Walter Isaacson   \n",
       "8                           by Chris Dixon   \n",
       "9                             by Clay Cane   \n",
       "10                        by Hadley Vlahos   \n",
       "11  by Michael Isikoff and Daniel Klaidman   \n",
       "12                      by Uché Blackstock   \n",
       "13                     by Jennette McCurdy   \n",
       "14                       by Michele Norris   \n",
       "\n",
       "                                          description  \n",
       "0   The survivors of a shipwrecked British vessel ...  \n",
       "1   The former congresswoman from Wyoming recounts...  \n",
       "2   A look at recent scientific research on aging ...  \n",
       "3   The Grammy Award-winning pop star details her ...  \n",
       "4   The author of “American Carnage” looks at divi...  \n",
       "5   The late actor, known for playing Chandler Bin...  \n",
       "6   A Peabody and Emmy award-winning journalist un...  \n",
       "7   The author of “The Code Breaker” traces Musk’s...  \n",
       "8   A technology entrepreneur describes three eras...  \n",
       "9   An overview of Black Republicanism from the ti...  \n",
       "10  A hospice nurse shares some of her most impact...  \n",
       "11  An account of former President Trump’s attempt...  \n",
       "12  A Black physician details systemic barriers an...  \n",
       "13  The actress and filmmaker describes her eating...  \n",
       "14  Stories, essays and photographs exploring race...  "
      ]
     },
     "execution_count": 20,
     "metadata": {},
     "output_type": "execute_result"
    }
   ],
   "source": [
    "df = pd.DataFrame({'title':titles, 'author':authors, 'description':Descriptions})\n",
    "df"
   ]
  },
  {
   "cell_type": "code",
   "execution_count": 34,
   "id": "5d43662c",
   "metadata": {
    "scrolled": false
   },
   "outputs": [
    {
     "data": {
      "text/plain": [
       "['The Wager',\n",
       " 'Oath And Honor',\n",
       " 'Outlive',\n",
       " 'The Woman In Me',\n",
       " 'The Kingdom, The Power, And The Glory',\n",
       " 'Friends, Lovers, And The Big Terrible Thing',\n",
       " 'Madness',\n",
       " 'Elon Musk',\n",
       " 'Read Write Own',\n",
       " 'The Grift',\n",
       " 'The In-Between',\n",
       " 'Find Me The Votes',\n",
       " 'Legacy',\n",
       " \"I'M Glad My Mom Died\",\n",
       " 'Our Hidden Conversations']"
      ]
     },
     "execution_count": 34,
     "metadata": {},
     "output_type": "execute_result"
    }
   ],
   "source": [
    "capitalized_titles = []\n",
    "for title in df['title']:\n",
    "    capitalized_titles.append(title.title())\n",
    "capitalized_titles    "
   ]
  },
  {
   "cell_type": "code",
   "execution_count": 61,
   "id": "4be3c399",
   "metadata": {},
   "outputs": [
    {
     "data": {
      "text/plain": [
       "['The Survivors Of A Shipwrecked British Vessel On A Secret Mission During An Imperial War With Spain Have Different Accounts Of Events.',\n",
       " 'The Former Congresswoman From Wyoming Recounts How She Helped Lead The Select Committee To Investigate The Jan. 6. Attack On The United States Capitol.',\n",
       " 'A Look At Recent Scientific Research On Aging And Longevity.',\n",
       " 'The Grammy Award-Winning Pop Star Details Her Personal And Professional Experiences, Including The Years She Spent Under A Conservatorship Overseen By Her Father.',\n",
       " 'The Author Of “American Carnage” Looks At Divisions Within The American Evangelical Movement.',\n",
       " 'The Late Actor, Known For Playing Chandler Bing On “Friends,” Shares Stories From His Childhood And His Struggles With Sobriety.',\n",
       " 'A Peabody And Emmy Award-Winning Journalist Unearths The 93-Year-Old History Of A Segregated Asylum In Maryland.',\n",
       " 'The Author Of “The Code Breaker” Traces Musk’S Life And Summarizes His Work On Electric Vehicles, Private Space Exploration And Artificial Intelligence.',\n",
       " 'A Technology Entrepreneur Describes Three Eras Of The Internet And Argues In Favor Of Blockchain Networks.',\n",
       " 'An Overview Of Black Republicanism From The Time Of President Lincoln To The Present.',\n",
       " \"A Hospice Nurse Shares Some Of Her Most Impactful Experiences And Questions Some Of Society'S Beliefs Around End-Of-Life Care.\",\n",
       " 'An Account Of Former President Trump’S Attempt To Overturn The 2020 Election And A Georgia Prosecutor’S Decision To Indict Him And His Allies.',\n",
       " 'A Black Physician Details Systemic Barriers And Inequities That Affect Black Patients And Doctors.',\n",
       " 'The Actress And Filmmaker Describes Her Eating Disorders And Difficult Relationship With Her Mother.',\n",
       " 'Stories, Essays And Photographs Exploring Race And Identity In America.']"
      ]
     },
     "execution_count": 61,
     "metadata": {},
     "output_type": "execute_result"
    }
   ],
   "source": [
    "capitalized_description = []\n",
    "for title in df['description']:\n",
    "    capitalized_description.append(title.title())\n",
    "capitalized_description"
   ]
  },
  {
   "cell_type": "code",
   "execution_count": 50,
   "id": "93dbc808",
   "metadata": {
    "scrolled": false
   },
   "outputs": [
    {
     "data": {
      "text/plain": [
       "['Title', 'Author', 'Description']"
      ]
     },
     "execution_count": 50,
     "metadata": {},
     "output_type": "execute_result"
    }
   ],
   "source": [
    "capitalized_titles = []\n",
    "for column in df.columns:\n",
    "    capitalized_titles.append(column.title())\n",
    "capitalized_titles"
   ]
  },
  {
   "cell_type": "code",
   "execution_count": 51,
   "id": "a70b0656",
   "metadata": {},
   "outputs": [
    {
     "data": {
      "text/plain": [
       "[' David Grann',\n",
       " ' Liz Cheney',\n",
       " ' Peter Attia with Bill Gifford',\n",
       " ' Britney Spears',\n",
       " ' Tim Alberta',\n",
       " ' Matthew Perry',\n",
       " ' Antonia Hylton',\n",
       " ' Walter Isaacson',\n",
       " ' Chris Dixon',\n",
       " ' Clay Cane',\n",
       " ' Hadley Vlahos',\n",
       " ' Michael Isikoff and Daniel Klaidman',\n",
       " ' Uché Blackstock',\n",
       " ' Jennette McCurdy',\n",
       " ' Michele Norris']"
      ]
     },
     "execution_count": 51,
     "metadata": {},
     "output_type": "execute_result"
    }
   ],
   "source": [
    "authors_noby = [author.split('by')[1] for author in authors]\n",
    "authors_noby"
   ]
  },
  {
   "cell_type": "code",
   "execution_count": 67,
   "id": "52d1ed85",
   "metadata": {},
   "outputs": [
    {
     "data": {
      "text/plain": [
       "'Description'"
      ]
     },
     "execution_count": 67,
     "metadata": {},
     "output_type": "execute_result"
    }
   ],
   "source": [
    "capitalized_titles.pop(0)"
   ]
  },
  {
   "cell_type": "code",
   "execution_count": 68,
   "id": "f831ab2b",
   "metadata": {},
   "outputs": [
    {
     "name": "stdout",
     "output_type": "stream",
     "text": [
      "15 15 15\n"
     ]
    }
   ],
   "source": [
    "print(len(capitalized_titles),len(authors_noby),len(capitalized_description))"
   ]
  },
  {
   "cell_type": "code",
   "execution_count": 69,
   "id": "dc9eff98",
   "metadata": {},
   "outputs": [],
   "source": [
    "capitalized_values = {'title':capitalized_titles, 'author':authors_noby,'description':capitalized_description}\n"
   ]
  },
  {
   "cell_type": "code",
   "execution_count": 70,
   "id": "b2b833cb",
   "metadata": {},
   "outputs": [
    {
     "data": {
      "text/html": [
       "<div>\n",
       "<style scoped>\n",
       "    .dataframe tbody tr th:only-of-type {\n",
       "        vertical-align: middle;\n",
       "    }\n",
       "\n",
       "    .dataframe tbody tr th {\n",
       "        vertical-align: top;\n",
       "    }\n",
       "\n",
       "    .dataframe thead th {\n",
       "        text-align: right;\n",
       "    }\n",
       "</style>\n",
       "<table border=\"1\" class=\"dataframe\">\n",
       "  <thead>\n",
       "    <tr style=\"text-align: right;\">\n",
       "      <th></th>\n",
       "      <th>title</th>\n",
       "      <th>author</th>\n",
       "      <th>description</th>\n",
       "    </tr>\n",
       "  </thead>\n",
       "  <tbody>\n",
       "    <tr>\n",
       "      <th>0</th>\n",
       "      <td>The Survivors Of A Shipwrecked British Vessel ...</td>\n",
       "      <td>David Grann</td>\n",
       "      <td>The Survivors Of A Shipwrecked British Vessel ...</td>\n",
       "    </tr>\n",
       "    <tr>\n",
       "      <th>1</th>\n",
       "      <td>The Former Congresswoman From Wyoming Recounts...</td>\n",
       "      <td>Liz Cheney</td>\n",
       "      <td>The Former Congresswoman From Wyoming Recounts...</td>\n",
       "    </tr>\n",
       "    <tr>\n",
       "      <th>2</th>\n",
       "      <td>A Look At Recent Scientific Research On Aging ...</td>\n",
       "      <td>Peter Attia with Bill Gifford</td>\n",
       "      <td>A Look At Recent Scientific Research On Aging ...</td>\n",
       "    </tr>\n",
       "    <tr>\n",
       "      <th>3</th>\n",
       "      <td>The Grammy Award-Winning Pop Star Details Her ...</td>\n",
       "      <td>Britney Spears</td>\n",
       "      <td>The Grammy Award-Winning Pop Star Details Her ...</td>\n",
       "    </tr>\n",
       "    <tr>\n",
       "      <th>4</th>\n",
       "      <td>The Author Of “American Carnage” Looks At Divi...</td>\n",
       "      <td>Tim Alberta</td>\n",
       "      <td>The Author Of “American Carnage” Looks At Divi...</td>\n",
       "    </tr>\n",
       "    <tr>\n",
       "      <th>5</th>\n",
       "      <td>The Late Actor, Known For Playing Chandler Bin...</td>\n",
       "      <td>Matthew Perry</td>\n",
       "      <td>The Late Actor, Known For Playing Chandler Bin...</td>\n",
       "    </tr>\n",
       "    <tr>\n",
       "      <th>6</th>\n",
       "      <td>A Peabody And Emmy Award-Winning Journalist Un...</td>\n",
       "      <td>Antonia Hylton</td>\n",
       "      <td>A Peabody And Emmy Award-Winning Journalist Un...</td>\n",
       "    </tr>\n",
       "    <tr>\n",
       "      <th>7</th>\n",
       "      <td>The Author Of “The Code Breaker” Traces Musk’S...</td>\n",
       "      <td>Walter Isaacson</td>\n",
       "      <td>The Author Of “The Code Breaker” Traces Musk’S...</td>\n",
       "    </tr>\n",
       "    <tr>\n",
       "      <th>8</th>\n",
       "      <td>A Technology Entrepreneur Describes Three Eras...</td>\n",
       "      <td>Chris Dixon</td>\n",
       "      <td>A Technology Entrepreneur Describes Three Eras...</td>\n",
       "    </tr>\n",
       "    <tr>\n",
       "      <th>9</th>\n",
       "      <td>An Overview Of Black Republicanism From The Ti...</td>\n",
       "      <td>Clay Cane</td>\n",
       "      <td>An Overview Of Black Republicanism From The Ti...</td>\n",
       "    </tr>\n",
       "    <tr>\n",
       "      <th>10</th>\n",
       "      <td>A Hospice Nurse Shares Some Of Her Most Impact...</td>\n",
       "      <td>Hadley Vlahos</td>\n",
       "      <td>A Hospice Nurse Shares Some Of Her Most Impact...</td>\n",
       "    </tr>\n",
       "    <tr>\n",
       "      <th>11</th>\n",
       "      <td>An Account Of Former President Trump’S Attempt...</td>\n",
       "      <td>Michael Isikoff and Daniel Klaidman</td>\n",
       "      <td>An Account Of Former President Trump’S Attempt...</td>\n",
       "    </tr>\n",
       "    <tr>\n",
       "      <th>12</th>\n",
       "      <td>A Black Physician Details Systemic Barriers An...</td>\n",
       "      <td>Uché Blackstock</td>\n",
       "      <td>A Black Physician Details Systemic Barriers An...</td>\n",
       "    </tr>\n",
       "    <tr>\n",
       "      <th>13</th>\n",
       "      <td>The Actress And Filmmaker Describes Her Eating...</td>\n",
       "      <td>Jennette McCurdy</td>\n",
       "      <td>The Actress And Filmmaker Describes Her Eating...</td>\n",
       "    </tr>\n",
       "    <tr>\n",
       "      <th>14</th>\n",
       "      <td>Stories, Essays And Photographs Exploring Race...</td>\n",
       "      <td>Michele Norris</td>\n",
       "      <td>Stories, Essays And Photographs Exploring Race...</td>\n",
       "    </tr>\n",
       "  </tbody>\n",
       "</table>\n",
       "</div>"
      ],
      "text/plain": [
       "                                                title  \\\n",
       "0   The Survivors Of A Shipwrecked British Vessel ...   \n",
       "1   The Former Congresswoman From Wyoming Recounts...   \n",
       "2   A Look At Recent Scientific Research On Aging ...   \n",
       "3   The Grammy Award-Winning Pop Star Details Her ...   \n",
       "4   The Author Of “American Carnage” Looks At Divi...   \n",
       "5   The Late Actor, Known For Playing Chandler Bin...   \n",
       "6   A Peabody And Emmy Award-Winning Journalist Un...   \n",
       "7   The Author Of “The Code Breaker” Traces Musk’S...   \n",
       "8   A Technology Entrepreneur Describes Three Eras...   \n",
       "9   An Overview Of Black Republicanism From The Ti...   \n",
       "10  A Hospice Nurse Shares Some Of Her Most Impact...   \n",
       "11  An Account Of Former President Trump’S Attempt...   \n",
       "12  A Black Physician Details Systemic Barriers An...   \n",
       "13  The Actress And Filmmaker Describes Her Eating...   \n",
       "14  Stories, Essays And Photographs Exploring Race...   \n",
       "\n",
       "                                  author  \\\n",
       "0                            David Grann   \n",
       "1                             Liz Cheney   \n",
       "2          Peter Attia with Bill Gifford   \n",
       "3                         Britney Spears   \n",
       "4                            Tim Alberta   \n",
       "5                          Matthew Perry   \n",
       "6                         Antonia Hylton   \n",
       "7                        Walter Isaacson   \n",
       "8                            Chris Dixon   \n",
       "9                              Clay Cane   \n",
       "10                         Hadley Vlahos   \n",
       "11   Michael Isikoff and Daniel Klaidman   \n",
       "12                       Uché Blackstock   \n",
       "13                      Jennette McCurdy   \n",
       "14                        Michele Norris   \n",
       "\n",
       "                                          description  \n",
       "0   The Survivors Of A Shipwrecked British Vessel ...  \n",
       "1   The Former Congresswoman From Wyoming Recounts...  \n",
       "2   A Look At Recent Scientific Research On Aging ...  \n",
       "3   The Grammy Award-Winning Pop Star Details Her ...  \n",
       "4   The Author Of “American Carnage” Looks At Divi...  \n",
       "5   The Late Actor, Known For Playing Chandler Bin...  \n",
       "6   A Peabody And Emmy Award-Winning Journalist Un...  \n",
       "7   The Author Of “The Code Breaker” Traces Musk’S...  \n",
       "8   A Technology Entrepreneur Describes Three Eras...  \n",
       "9   An Overview Of Black Republicanism From The Ti...  \n",
       "10  A Hospice Nurse Shares Some Of Her Most Impact...  \n",
       "11  An Account Of Former President Trump’S Attempt...  \n",
       "12  A Black Physician Details Systemic Barriers An...  \n",
       "13  The Actress And Filmmaker Describes Her Eating...  \n",
       "14  Stories, Essays And Photographs Exploring Race...  "
      ]
     },
     "execution_count": 70,
     "metadata": {},
     "output_type": "execute_result"
    }
   ],
   "source": [
    "capitalized_values_df = pd.DataFrame(capitalized_values)\n",
    "capitalized_values_df"
   ]
  },
  {
   "cell_type": "code",
   "execution_count": null,
   "id": "5a906bff",
   "metadata": {},
   "outputs": [],
   "source": []
  }
 ],
 "metadata": {
  "kernelspec": {
   "display_name": "Python 3 (ipykernel)",
   "language": "python",
   "name": "python3"
  },
  "language_info": {
   "codemirror_mode": {
    "name": "ipython",
    "version": 3
   },
   "file_extension": ".py",
   "mimetype": "text/x-python",
   "name": "python",
   "nbconvert_exporter": "python",
   "pygments_lexer": "ipython3",
   "version": "3.11.5"
  }
 },
 "nbformat": 4,
 "nbformat_minor": 5
}
