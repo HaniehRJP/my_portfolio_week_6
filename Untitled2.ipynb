{
 "cells": [
  {
   "cell_type": "code",
   "execution_count": 12,
   "id": "a2d6a122",
   "metadata": {},
   "outputs": [],
   "source": [
    "from bs4 import BeautifulSoup\n",
    "import requests\n",
    "import pandas as pd"
   ]
  },
  {
   "cell_type": "code",
   "execution_count": 13,
   "id": "cc41333f",
   "metadata": {
    "scrolled": true
   },
   "outputs": [
    {
     "data": {
      "text/plain": [
       "200"
      ]
     },
     "execution_count": 13,
     "metadata": {},
     "output_type": "execute_result"
    }
   ],
   "source": [
    "url = 'https://en.wikipedia.org/wiki/List_of_presidents_of_the_United_States'\n",
    "response = requests.get(url)\n",
    "soup = BeautifulSoup(response.content)\n",
    "response.status_code"
   ]
  },
  {
   "cell_type": "code",
   "execution_count": 14,
   "id": "e55b1ead",
   "metadata": {},
   "outputs": [
    {
     "data": {
      "text/plain": [
       "'George Washington'"
      ]
     },
     "execution_count": 14,
     "metadata": {},
     "output_type": "execute_result"
    }
   ],
   "source": [
    "soup.select('td b a')[0].get_text()"
   ]
  },
  {
   "cell_type": "code",
   "execution_count": 15,
   "id": "ff50a599",
   "metadata": {
    "scrolled": true
   },
   "outputs": [
    {
     "data": {
      "text/plain": [
       "'/wiki/George_Washington'"
      ]
     },
     "execution_count": 15,
     "metadata": {},
     "output_type": "execute_result"
    }
   ],
   "source": [
    "soup.select('td b a')[0]['href']"
   ]
  },
  {
   "cell_type": "code",
   "execution_count": 16,
   "id": "3d7f7bab",
   "metadata": {
    "collapsed": true
   },
   "outputs": [
    {
     "data": {
      "text/plain": [
       "['/wiki/George_Washington',\n",
       " '/wiki/John_Adams',\n",
       " '/wiki/Thomas_Jefferson',\n",
       " '/wiki/James_Madison',\n",
       " '/wiki/James_Monroe',\n",
       " '/wiki/John_Quincy_Adams',\n",
       " '/wiki/Andrew_Jackson',\n",
       " '/wiki/Martin_Van_Buren',\n",
       " '/wiki/William_Henry_Harrison',\n",
       " '/wiki/John_Tyler',\n",
       " '/wiki/James_K._Polk',\n",
       " '/wiki/Zachary_Taylor',\n",
       " '/wiki/Millard_Fillmore',\n",
       " '/wiki/Franklin_Pierce',\n",
       " '/wiki/James_Buchanan',\n",
       " '/wiki/Abraham_Lincoln',\n",
       " '/wiki/Andrew_Johnson',\n",
       " '/wiki/Ulysses_S._Grant',\n",
       " '/wiki/Rutherford_B._Hayes',\n",
       " '/wiki/James_A._Garfield',\n",
       " '/wiki/Chester_A._Arthur',\n",
       " '/wiki/Grover_Cleveland',\n",
       " '/wiki/Benjamin_Harrison',\n",
       " '/wiki/Grover_Cleveland',\n",
       " '/wiki/William_McKinley',\n",
       " '/wiki/Theodore_Roosevelt',\n",
       " '/wiki/William_Howard_Taft',\n",
       " '/wiki/Woodrow_Wilson',\n",
       " '/wiki/Warren_G._Harding',\n",
       " '/wiki/Calvin_Coolidge',\n",
       " '/wiki/Herbert_Hoover',\n",
       " '/wiki/Franklin_D._Roosevelt',\n",
       " '/wiki/Harry_S._Truman',\n",
       " '/wiki/Dwight_D._Eisenhower',\n",
       " '/wiki/John_F._Kennedy',\n",
       " '/wiki/Lyndon_B._Johnson',\n",
       " '/wiki/Richard_Nixon',\n",
       " '/wiki/Gerald_Ford',\n",
       " '/wiki/Jimmy_Carter',\n",
       " '/wiki/Ronald_Reagan',\n",
       " '/wiki/George_H._W._Bush',\n",
       " '/wiki/Bill_Clinton',\n",
       " '/wiki/George_W._Bush',\n",
       " '/wiki/Barack_Obama',\n",
       " '/wiki/Donald_Trump',\n",
       " '/wiki/Joe_Biden']"
      ]
     },
     "execution_count": 16,
     "metadata": {},
     "output_type": "execute_result"
    }
   ],
   "source": [
    "presidents_href = []\n",
    "for href in soup.select('td b a'):\n",
    "    presidents_href.append(href['href'])\n",
    "presidents_href"
   ]
  },
  {
   "cell_type": "code",
   "execution_count": 34,
   "id": "97976793",
   "metadata": {},
   "outputs": [],
   "source": [
    "name = []\n",
    "political_party = []\n",
    "number_of_children = []\n",
    "occupation = []\n",
    "for prez in presidents_href:\n",
    "    url = 'https://en.wikipedia.org'+prez\n",
    "    response = requests.get(url)\n",
    "    soup = BeautifulSoup(response.content)\n",
    "    name.append(soup.select_one('div.fn')[0].get_text())\n",
    "    political_party.append(soup.find('th', string = 'Political party').parent.find('a').get_text())\n",
    "    children_element = soup.find('th', string='Children')\n",
    "    if children_element:\n",
    "        td_element = children_element.find_next('td')\n",
    "        # Extract the number of children from the td element\n",
    "        number_of_children_value = td_element.get_text(strip=True).replace('including', '').strip()\n",
    "    else:\n",
    "     "
   ]
  },
  {
   "cell_type": "code",
   "execution_count": 17,
   "id": "a9a2b624",
   "metadata": {},
   "outputs": [],
   "source": [
    "    \n",
    "    \n",
    "prez_dict = {'name':name, \n",
    "             'party':political_party, \n",
    "             'children':number_of_children, \n",
    "             'occupation':occupation}\n",
    "prez_dict = pd.DataFrame(prez_dict)\n",
    "prez_dict.head()"
   ]
  },
  {
   "cell_type": "code",
   "execution_count": null,
   "id": "a126c634",
   "metadata": {},
   "outputs": [],
   "source": [
    "#create a df of US presidents with columns:\n",
    "#Name of president\n",
    "#Political party\n",
    "#Number of children\n",
    "#Occupation"
   ]
  }
 ],
 "metadata": {
  "kernelspec": {
   "display_name": "Python 3 (ipykernel)",
   "language": "python",
   "name": "python3"
  },
  "language_info": {
   "codemirror_mode": {
    "name": "ipython",
    "version": 3
   },
   "file_extension": ".py",
   "mimetype": "text/x-python",
   "name": "python",
   "nbconvert_exporter": "python",
   "pygments_lexer": "ipython3",
   "version": "3.11.5"
  }
 },
 "nbformat": 4,
 "nbformat_minor": 5
}
