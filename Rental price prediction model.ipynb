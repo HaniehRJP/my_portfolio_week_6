{
 "cells": [
  {
   "cell_type": "markdown",
   "id": "084ccb91",
   "metadata": {},
   "source": [
    "# Project Name: Rental price prediction\n",
    "\n",
    "Summary: In this project, we ask users to enter some variables(such as size,location etc) about their apartments and the model can predict/estimate the amount of cold rent for the given property.\n",
    "\n",
    "The project is consist of following steps:\n",
    "- Data wrangling and data cleaning (dealing wth Null values and outliers)\n",
    "- Using the cleaned dataset to train the Linear Regression model and measure the accuracy of the model\n",
    "- Optimizating the accuracy of the model by identyfing low impact features (variables) and removing them\n"
   ]
  },
  {
   "cell_type": "code",
   "execution_count": 78,
   "id": "4f55bde2",
   "metadata": {},
   "outputs": [],
   "source": [
    "import pandas as pd\n",
    "import seaborn as sns\n",
    "import warnings\n",
    "warnings.filterwarnings(\"ignore\", message=\"DataFrame is highly fragmented.\", category=pd.errors.PerformanceWarning)"
   ]
  },
  {
   "cell_type": "code",
   "execution_count": 79,
   "id": "cf5371a8",
   "metadata": {},
   "outputs": [],
   "source": [
    "# Read the webscraped Immoscout data, downloaded from Kaggle\n",
    "file_path = 'https://raw.githubusercontent.com/okravtsova123/ironhack_study/main/MidTermProject/rent.csv'\n",
    "try:\n",
    "    df = pd.read_csv(file_path, encoding='utf-8', sep=';')\n",
    "except UnicodeDecodeError:\n",
    "    try:\n",
    "        df = pd.read_csv(file_path, encoding='latin-1',  sep=';')\n",
    "    except UnicodeDecodeError:\n",
    "        df = pd.read_csv(file_path, encoding='ISO-8859-1',  sep=';')"
   ]
  },
  {
   "cell_type": "markdown",
   "id": "99edb130",
   "metadata": {},
   "source": [
    "### Cleanng and preparing data"
   ]
  },
  {
   "cell_type": "code",
   "execution_count": 100,
   "id": "bf88c7a8",
   "metadata": {},
   "outputs": [
    {
     "data": {
      "text/html": [
       "<div>\n",
       "<style scoped>\n",
       "    .dataframe tbody tr th:only-of-type {\n",
       "        vertical-align: middle;\n",
       "    }\n",
       "\n",
       "    .dataframe tbody tr th {\n",
       "        vertical-align: top;\n",
       "    }\n",
       "\n",
       "    .dataframe thead th {\n",
       "        text-align: right;\n",
       "    }\n",
       "</style>\n",
       "<table border=\"1\" class=\"dataframe\">\n",
       "  <thead>\n",
       "    <tr style=\"text-align: right;\">\n",
       "      <th></th>\n",
       "      <th>level_0</th>\n",
       "      <th>index</th>\n",
       "      <th>baserent</th>\n",
       "      <th>balcony</th>\n",
       "      <th>haskitchen</th>\n",
       "      <th>cellar</th>\n",
       "      <th>livingspace</th>\n",
       "      <th>petsallowed</th>\n",
       "      <th>firingtypes</th>\n",
       "      <th>geo_krs</th>\n",
       "      <th>lift</th>\n",
       "      <th>norooms</th>\n",
       "      <th>floor</th>\n",
       "      <th>garden</th>\n",
       "      <th>energyefficiencyclass</th>\n",
       "    </tr>\n",
       "  </thead>\n",
       "  <tbody>\n",
       "    <tr>\n",
       "      <th>0</th>\n",
       "      <td>8</td>\n",
       "      <td>87</td>\n",
       "      <td>1338.43</td>\n",
       "      <td>True</td>\n",
       "      <td>True</td>\n",
       "      <td>True</td>\n",
       "      <td>73.54</td>\n",
       "      <td>negotiable</td>\n",
       "      <td>district_heating</td>\n",
       "      <td>Berlin</td>\n",
       "      <td>True</td>\n",
       "      <td>2.0</td>\n",
       "      <td>0.0</td>\n",
       "      <td>False</td>\n",
       "      <td>B</td>\n",
       "    </tr>\n",
       "    <tr>\n",
       "      <th>1</th>\n",
       "      <td>10</td>\n",
       "      <td>118</td>\n",
       "      <td>1390.00</td>\n",
       "      <td>True</td>\n",
       "      <td>False</td>\n",
       "      <td>False</td>\n",
       "      <td>33.00</td>\n",
       "      <td>no</td>\n",
       "      <td>district_heating</td>\n",
       "      <td>M?nchen</td>\n",
       "      <td>True</td>\n",
       "      <td>1.0</td>\n",
       "      <td>3.0</td>\n",
       "      <td>False</td>\n",
       "      <td>C</td>\n",
       "    </tr>\n",
       "    <tr>\n",
       "      <th>2</th>\n",
       "      <td>13</td>\n",
       "      <td>156</td>\n",
       "      <td>1299.00</td>\n",
       "      <td>True</td>\n",
       "      <td>False</td>\n",
       "      <td>True</td>\n",
       "      <td>90.30</td>\n",
       "      <td>negotiable</td>\n",
       "      <td>district_heating</td>\n",
       "      <td>Hamburg</td>\n",
       "      <td>True</td>\n",
       "      <td>3.0</td>\n",
       "      <td>2.0</td>\n",
       "      <td>False</td>\n",
       "      <td>B</td>\n",
       "    </tr>\n",
       "  </tbody>\n",
       "</table>\n",
       "</div>"
      ],
      "text/plain": [
       "   level_0  index  baserent  balcony  haskitchen  cellar  livingspace  \\\n",
       "0        8     87   1338.43     True        True    True        73.54   \n",
       "1       10    118   1390.00     True       False   False        33.00   \n",
       "2       13    156   1299.00     True       False    True        90.30   \n",
       "\n",
       "  petsallowed       firingtypes  geo_krs  lift  norooms  floor  garden  \\\n",
       "0  negotiable  district_heating   Berlin  True      2.0    0.0   False   \n",
       "1          no  district_heating  M?nchen  True      1.0    3.0   False   \n",
       "2  negotiable  district_heating  Hamburg  True      3.0    2.0   False   \n",
       "\n",
       "  energyefficiencyclass  \n",
       "0                     B  \n",
       "1                     C  \n",
       "2                     B  "
      ]
     },
     "execution_count": 100,
     "metadata": {},
     "output_type": "execute_result"
    }
   ],
   "source": [
    "# Checking the df\n",
    "df.head(3)"
   ]
  },
  {
   "cell_type": "code",
   "execution_count": 81,
   "id": "49370666",
   "metadata": {},
   "outputs": [
    {
     "data": {
      "text/plain": [
       "Index(['regio1', 'servicecharge', 'heatingtype', 'telekomtvoffer',\n",
       "       'telekomhybriduploadspeed', 'newlyconst', 'balcony', 'picturecount',\n",
       "       'pricetrend', 'telekomuploadspeed', 'totalrent', 'yearconstructed',\n",
       "       'scoutid', 'noparkspaces', 'firingtypes', 'haskitchen', 'geo_bln',\n",
       "       'cellar', 'yearconstructedrange', 'baserent', 'housenumber',\n",
       "       'livingspace', 'geo_krs', 'condition', 'interiorqual', 'petsallowed',\n",
       "       'street', 'streetplain', 'lift', 'baserentrange', 'typeofflat',\n",
       "       'geo_plz', 'norooms', 'thermalchar', 'floor', 'numberoffloors',\n",
       "       'noroomsrange', 'garden', 'livingspacerange', 'energyefficiencyclass'],\n",
       "      dtype='object')"
      ]
     },
     "execution_count": 81,
     "metadata": {},
     "output_type": "execute_result"
    }
   ],
   "source": [
    "# Performing additional formatting for column names (lowercase, strip and replace spaces with underscores) - esier to work further\n",
    "df.columns = [name.strip().replace(\" \", \"_\").lower() for name in df.columns]\n",
    "df.columns"
   ]
  },
  {
   "cell_type": "code",
   "execution_count": 83,
   "id": "533ad534",
   "metadata": {},
   "outputs": [
    {
     "name": "stdout",
     "output_type": "stream",
     "text": [
      "Total null values per row: \n",
      "0         3\n",
      "1         8\n",
      "2         4\n",
      "3         8\n",
      "4         8\n",
      "         ..\n",
      "268845    7\n",
      "268846    7\n",
      "268847    3\n",
      "268848    4\n",
      "268849    9\n",
      "Length: 268850, dtype: int64\n",
      "\n",
      "Total null values per column: \n",
      "regio1                           0\n",
      "servicecharge                 6909\n",
      "heatingtype                  44856\n",
      "telekomtvoffer               32619\n",
      "telekomhybriduploadspeed    223830\n",
      "newlyconst                       0\n",
      "balcony                          0\n",
      "picturecount                     0\n",
      "pricetrend                    1832\n",
      "telekomuploadspeed           33358\n",
      "totalrent                    40517\n",
      "yearconstructed              57045\n",
      "scoutid                          0\n",
      "noparkspaces                175798\n",
      "firingtypes                  56964\n",
      "haskitchen                       0\n",
      "geo_bln                          0\n",
      "cellar                           0\n",
      "yearconstructedrange         57045\n",
      "baserent                         0\n",
      "housenumber                  71018\n",
      "livingspace                      0\n",
      "geo_krs                          0\n",
      "condition                    68489\n",
      "interiorqual                112665\n",
      "petsallowed                 114573\n",
      "street                           0\n",
      "streetplain                  71013\n",
      "lift                             0\n",
      "baserentrange                    0\n",
      "typeofflat                   36614\n",
      "geo_plz                          0\n",
      "norooms                          0\n",
      "thermalchar                 106506\n",
      "floor                        51309\n",
      "numberoffloors               97732\n",
      "noroomsrange                     0\n",
      "garden                           0\n",
      "livingspacerange                 0\n",
      "energyefficiencyclass       191063\n",
      "dtype: int64\n",
      "\n"
     ]
    }
   ],
   "source": [
    "# Checking null values\n",
    "def null_check(df):\n",
    "    print(f'Total null values per row: \\n{df.isnull().sum(axis=1)}\\n')\n",
    "    print(f'Total null values per column: \\n{df.isnull().sum()}\\n')\n",
    "    \n",
    "null_check(df)"
   ]
  },
  {
   "cell_type": "code",
   "execution_count": 84,
   "id": "f3755fdd",
   "metadata": {},
   "outputs": [
    {
     "name": "stdout",
     "output_type": "stream",
     "text": [
      "Duplicates found: False\n",
      "\n",
      "Number of duplicates: 0\n",
      "\n"
     ]
    }
   ],
   "source": [
    "# Finding duplicates\n",
    "def dup_check(df):\n",
    "    print(f'Duplicates found: {df.duplicated().any()}\\n')\n",
    "    print(f'Number of duplicates: {df.duplicated().sum()}\\n')\n",
    "    \n",
    "dup_check(df)"
   ]
  },
  {
   "cell_type": "code",
   "execution_count": 85,
   "id": "53d7e78b",
   "metadata": {},
   "outputs": [],
   "source": [
    "# Choosing only new buildings for prediction rental price because they are not controlled by government\n",
    "df = df[(df['newlyconst']== True)]"
   ]
  },
  {
   "cell_type": "code",
   "execution_count": 86,
   "id": "fb055880",
   "metadata": {},
   "outputs": [
    {
     "data": {
      "text/plain": [
       "402"
      ]
     },
     "execution_count": 86,
     "metadata": {},
     "output_type": "execute_result"
    }
   ],
   "source": [
    "# Counting number of unique locations\n",
    "df[\"geo_krs\"].nunique()"
   ]
  },
  {
   "cell_type": "code",
   "execution_count": 101,
   "id": "b032e3c6",
   "metadata": {},
   "outputs": [
    {
     "data": {
      "text/html": [
       "<div>\n",
       "<style scoped>\n",
       "    .dataframe tbody tr th:only-of-type {\n",
       "        vertical-align: middle;\n",
       "    }\n",
       "\n",
       "    .dataframe tbody tr th {\n",
       "        vertical-align: top;\n",
       "    }\n",
       "\n",
       "    .dataframe thead th {\n",
       "        text-align: right;\n",
       "    }\n",
       "</style>\n",
       "<table border=\"1\" class=\"dataframe\">\n",
       "  <thead>\n",
       "    <tr style=\"text-align: right;\">\n",
       "      <th></th>\n",
       "      <th>baserent</th>\n",
       "      <th>balcony</th>\n",
       "      <th>haskitchen</th>\n",
       "      <th>cellar</th>\n",
       "      <th>livingspace</th>\n",
       "      <th>petsallowed</th>\n",
       "      <th>firingtypes</th>\n",
       "      <th>geo_krs</th>\n",
       "      <th>lift</th>\n",
       "      <th>norooms</th>\n",
       "      <th>floor</th>\n",
       "      <th>garden</th>\n",
       "      <th>energyefficiencyclass</th>\n",
       "    </tr>\n",
       "  </thead>\n",
       "  <tbody>\n",
       "    <tr>\n",
       "      <th>0</th>\n",
       "      <td>1338.43</td>\n",
       "      <td>True</td>\n",
       "      <td>True</td>\n",
       "      <td>True</td>\n",
       "      <td>73.54</td>\n",
       "      <td>negotiable</td>\n",
       "      <td>district_heating</td>\n",
       "      <td>Berlin</td>\n",
       "      <td>True</td>\n",
       "      <td>2.0</td>\n",
       "      <td>0.0</td>\n",
       "      <td>False</td>\n",
       "      <td>B</td>\n",
       "    </tr>\n",
       "    <tr>\n",
       "      <th>1</th>\n",
       "      <td>1390.00</td>\n",
       "      <td>True</td>\n",
       "      <td>False</td>\n",
       "      <td>False</td>\n",
       "      <td>33.00</td>\n",
       "      <td>no</td>\n",
       "      <td>district_heating</td>\n",
       "      <td>M?nchen</td>\n",
       "      <td>True</td>\n",
       "      <td>1.0</td>\n",
       "      <td>3.0</td>\n",
       "      <td>False</td>\n",
       "      <td>C</td>\n",
       "    </tr>\n",
       "    <tr>\n",
       "      <th>2</th>\n",
       "      <td>1299.00</td>\n",
       "      <td>True</td>\n",
       "      <td>False</td>\n",
       "      <td>True</td>\n",
       "      <td>90.30</td>\n",
       "      <td>negotiable</td>\n",
       "      <td>district_heating</td>\n",
       "      <td>Hamburg</td>\n",
       "      <td>True</td>\n",
       "      <td>3.0</td>\n",
       "      <td>2.0</td>\n",
       "      <td>False</td>\n",
       "      <td>B</td>\n",
       "    </tr>\n",
       "  </tbody>\n",
       "</table>\n",
       "</div>"
      ],
      "text/plain": [
       "   baserent  balcony  haskitchen  cellar  livingspace petsallowed  \\\n",
       "0   1338.43     True        True    True        73.54  negotiable   \n",
       "1   1390.00     True       False   False        33.00          no   \n",
       "2   1299.00     True       False    True        90.30  negotiable   \n",
       "\n",
       "        firingtypes  geo_krs  lift  norooms  floor  garden  \\\n",
       "0  district_heating   Berlin  True      2.0    0.0   False   \n",
       "1  district_heating  M?nchen  True      1.0    3.0   False   \n",
       "2  district_heating  Hamburg  True      3.0    2.0   False   \n",
       "\n",
       "  energyefficiencyclass  \n",
       "0                     B  \n",
       "1                     C  \n",
       "2                     B  "
      ]
     },
     "execution_count": 101,
     "metadata": {},
     "output_type": "execute_result"
    }
   ],
   "source": [
    "# Choosing the features for the model \n",
    "df = df.loc[:, ['baserent', 'balcony', 'haskitchen',\n",
    "       'cellar','livingspace', 'petsallowed', 'firingtypes','geo_krs', 'lift', 'norooms', 'floor', 'garden', 'energyefficiencyclass']]\n",
    "df.head(3)"
   ]
  },
  {
   "cell_type": "code",
   "execution_count": 88,
   "id": "4c08f30e",
   "metadata": {},
   "outputs": [
    {
     "data": {
      "text/html": [
       "<div>\n",
       "<style scoped>\n",
       "    .dataframe tbody tr th:only-of-type {\n",
       "        vertical-align: middle;\n",
       "    }\n",
       "\n",
       "    .dataframe tbody tr th {\n",
       "        vertical-align: top;\n",
       "    }\n",
       "\n",
       "    .dataframe thead th {\n",
       "        text-align: right;\n",
       "    }\n",
       "</style>\n",
       "<table border=\"1\" class=\"dataframe\">\n",
       "  <thead>\n",
       "    <tr style=\"text-align: right;\">\n",
       "      <th></th>\n",
       "      <th>index</th>\n",
       "      <th>baserent</th>\n",
       "      <th>balcony</th>\n",
       "      <th>haskitchen</th>\n",
       "      <th>cellar</th>\n",
       "      <th>livingspace</th>\n",
       "      <th>petsallowed</th>\n",
       "      <th>firingtypes</th>\n",
       "      <th>geo_krs</th>\n",
       "      <th>lift</th>\n",
       "      <th>norooms</th>\n",
       "      <th>floor</th>\n",
       "      <th>garden</th>\n",
       "      <th>energyefficiencyclass</th>\n",
       "    </tr>\n",
       "  </thead>\n",
       "  <tbody>\n",
       "    <tr>\n",
       "      <th>0</th>\n",
       "      <td>2</td>\n",
       "      <td>965.00</td>\n",
       "      <td>True</td>\n",
       "      <td>False</td>\n",
       "      <td>True</td>\n",
       "      <td>83.80</td>\n",
       "      <td>NaN</td>\n",
       "      <td>NaN</td>\n",
       "      <td>Dresden</td>\n",
       "      <td>True</td>\n",
       "      <td>3.0</td>\n",
       "      <td>3.0</td>\n",
       "      <td>False</td>\n",
       "      <td>NaN</td>\n",
       "    </tr>\n",
       "    <tr>\n",
       "      <th>1</th>\n",
       "      <td>14</td>\n",
       "      <td>972.60</td>\n",
       "      <td>True</td>\n",
       "      <td>False</td>\n",
       "      <td>True</td>\n",
       "      <td>87.00</td>\n",
       "      <td>negotiable</td>\n",
       "      <td>gas</td>\n",
       "      <td>Dortmund</td>\n",
       "      <td>True</td>\n",
       "      <td>3.0</td>\n",
       "      <td>0.0</td>\n",
       "      <td>False</td>\n",
       "      <td>NaN</td>\n",
       "    </tr>\n",
       "    <tr>\n",
       "      <th>2</th>\n",
       "      <td>29</td>\n",
       "      <td>520.08</td>\n",
       "      <td>True</td>\n",
       "      <td>False</td>\n",
       "      <td>True</td>\n",
       "      <td>47.28</td>\n",
       "      <td>NaN</td>\n",
       "      <td>district_heating</td>\n",
       "      <td>Schwerin</td>\n",
       "      <td>True</td>\n",
       "      <td>2.0</td>\n",
       "      <td>NaN</td>\n",
       "      <td>False</td>\n",
       "      <td>NaN</td>\n",
       "    </tr>\n",
       "  </tbody>\n",
       "</table>\n",
       "</div>"
      ],
      "text/plain": [
       "   index  baserent  balcony  haskitchen  cellar  livingspace petsallowed  \\\n",
       "0      2    965.00     True       False    True        83.80         NaN   \n",
       "1     14    972.60     True       False    True        87.00  negotiable   \n",
       "2     29    520.08     True       False    True        47.28         NaN   \n",
       "\n",
       "        firingtypes   geo_krs  lift  norooms  floor  garden  \\\n",
       "0               NaN   Dresden  True      3.0    3.0   False   \n",
       "1               gas  Dortmund  True      3.0    0.0   False   \n",
       "2  district_heating  Schwerin  True      2.0    NaN   False   \n",
       "\n",
       "  energyefficiencyclass  \n",
       "0                   NaN  \n",
       "1                   NaN  \n",
       "2                   NaN  "
      ]
     },
     "execution_count": 88,
     "metadata": {},
     "output_type": "execute_result"
    }
   ],
   "source": [
    "df = df.reset_index()\n",
    "df.head(3)"
   ]
  },
  {
   "cell_type": "code",
   "execution_count": 89,
   "id": "8fdaeb0f",
   "metadata": {},
   "outputs": [
    {
     "name": "stdout",
     "output_type": "stream",
     "text": [
      "Total null values per row: \n",
      "0        3\n",
      "1        1\n",
      "2        3\n",
      "3        1\n",
      "4        1\n",
      "        ..\n",
      "21166    1\n",
      "21167    3\n",
      "21168    1\n",
      "21169    1\n",
      "21170    1\n",
      "Length: 21171, dtype: int64\n",
      "\n",
      "Total null values per column: \n",
      "index                        0\n",
      "baserent                     0\n",
      "balcony                      0\n",
      "haskitchen                   0\n",
      "cellar                       0\n",
      "livingspace                  0\n",
      "petsallowed               9357\n",
      "firingtypes               5328\n",
      "geo_krs                      0\n",
      "lift                         0\n",
      "norooms                      0\n",
      "floor                     5238\n",
      "garden                       0\n",
      "energyefficiencyclass    11456\n",
      "dtype: int64\n",
      "\n"
     ]
    }
   ],
   "source": [
    "null_check(df)"
   ]
  },
  {
   "cell_type": "code",
   "execution_count": 90,
   "id": "36c9c4a8",
   "metadata": {},
   "outputs": [],
   "source": [
    "df = df.dropna()"
   ]
  },
  {
   "cell_type": "code",
   "execution_count": 91,
   "id": "bb181a34",
   "metadata": {},
   "outputs": [],
   "source": [
    "# Unifying heating types\n",
    "def firingtypes_clean(ftype):\n",
    "    \n",
    "    if 'gas' in ftype:\n",
    "        ftype='gas'\n",
    "    elif 'electricity' in ftype:\n",
    "        ftype='electricity'\n",
    "    elif 'solar_heating' in ftype or 'wind_energy' in ftype or'hydro_energy' in ftype or 'bio_energy' in ftype or 'geothermal' in ftype or 'thermal_energy' in ftype or 'renewable_energy' in ftype or 'regenerative_energy' in ftype:\n",
    "        ftype='renewable_energy_heating'\n",
    "    elif \"pellet_heating\" in ftype or 'fossil_fuels' in ftype or 'wood_chips' in ftype:\n",
    "        ftype='pellet_heating'\n",
    "    elif 'district_heating' in ftype:\n",
    "        ftype='district_heating'\n",
    "    else:\n",
    "        ftype=ftype\n",
    "        \n",
    "    return ftype"
   ]
  },
  {
   "cell_type": "code",
   "execution_count": 93,
   "id": "d8ae5efc",
   "metadata": {},
   "outputs": [],
   "source": [
    "# Applying defined function for cleaning    \n",
    "df['firingtypes'] = df['firingtypes'].apply(firingtypes_clean)"
   ]
  },
  {
   "cell_type": "code",
   "execution_count": 94,
   "id": "19957941",
   "metadata": {},
   "outputs": [
    {
     "name": "stdout",
     "output_type": "stream",
     "text": [
      "energyefficiencyclass\n",
      "A                 1047\n",
      "A_PLUS             866\n",
      "B                 1172\n",
      "C                  247\n",
      "D                   49\n",
      "E                    8\n",
      "F                    5\n",
      "NO_INFORMATION     573\n",
      "Name: energyefficiencyclass, dtype: int64\n"
     ]
    }
   ],
   "source": [
    "# Checking energy efficiency class\n",
    "print(df[\"energyefficiencyclass\"].groupby(df[\"energyefficiencyclass\"]).count())"
   ]
  },
  {
   "cell_type": "code",
   "execution_count": 95,
   "id": "d78e9930",
   "metadata": {},
   "outputs": [],
   "source": [
    "# Droping rows with NO_INFORMATION\n",
    "df = df[df[\"energyefficiencyclass\"]!='NO_INFORMATION'].reset_index()"
   ]
  },
  {
   "cell_type": "code",
   "execution_count": 20,
   "id": "c1db9006",
   "metadata": {},
   "outputs": [],
   "source": [
    "# Cleaning two unnecessary columns and choosing relevant ones\n",
    "columns_needed = ['baserent', 'balcony', 'haskitchen',\n",
    "       'cellar','livingspace', 'petsallowed', 'geo_krs', 'lift', 'norooms', 'floor', 'garden', 'energyefficiencyclass']\n",
    "df = df.loc[: , columns_needed]"
   ]
  },
  {
   "cell_type": "code",
   "execution_count": 96,
   "id": "dcdc918b",
   "metadata": {},
   "outputs": [],
   "source": [
    "# Cleaning typos\n",
    "def regio1_clean(region):\n",
    "    if region == 'Baden_W?rttemberg':\n",
    "        region = 'Baden-Württemberg'\n",
    "    elif region == 'Th?ringen':\n",
    "        region = 'Thüringia'\n",
    "    else:\n",
    "        region=region\n",
    "        \n",
    "    return region"
   ]
  },
  {
   "cell_type": "code",
   "execution_count": 22,
   "id": "e893a145",
   "metadata": {},
   "outputs": [
    {
     "data": {
      "text/plain": [
       "geo_krs\n",
       "Aachen                         26\n",
       "Aachen_Kreis                   24\n",
       "Berlin                        389\n",
       "Bielefeld                      24\n",
       "Bonn                           33\n",
       "Braunschweig                   33\n",
       "D?sseldorf                     53\n",
       "Dortmund                       24\n",
       "Dresden                       142\n",
       "Frankfurt_am_Main             134\n",
       "G?tersloh_Kreis                32\n",
       "Gro?_Gerau_Kreis               21\n",
       "Hamburg                        87\n",
       "Hannover_Kreis                 22\n",
       "Harburg_Kreis                  24\n",
       "Heilbronn_Kreis                21\n",
       "Koblenz                        22\n",
       "Leipzig                       152\n",
       "M?hldorf_am_Inn_Kreis          33\n",
       "M?nchen                       140\n",
       "M?nchengladbach                33\n",
       "M?nster                        23\n",
       "Magdeburg                      31\n",
       "Main_Kinzig_Kreis              26\n",
       "Mainz                          30\n",
       "Mannheim                       51\n",
       "N?rnberg                       25\n",
       "Offenbach_Kreis                29\n",
       "Ortenaukreis                   25\n",
       "Potsdam_Mittelmark_Kreis       29\n",
       "Rhein_Erft_Kreis               29\n",
       "Rhein_Sieg_Kreis               22\n",
       "Rheinisch_Bergischer_Kreis     21\n",
       "Stade_Kreis                    23\n",
       "Stormarn_Kreis                 23\n",
       "Westerwaldkreis                22\n",
       "Name: geo_krs, dtype: int64"
      ]
     },
     "execution_count": 22,
     "metadata": {},
     "output_type": "execute_result"
    }
   ],
   "source": [
    "# Cheking spelling mistakes in geo_krs\n",
    "#REMOVE cities with less than 10 appartments, because they give too much influence in model\n",
    "cities = df.groupby('geo_krs').size().reset_index(name='count')\n",
    "cities_to_drop = cities[cities['count'] <= 20]\n",
    "df = df[~df['geo_krs'].isin(cities_to_drop['geo_krs'])].reset_index(drop=True)\n",
    "df['geo_krs'].groupby(df['geo_krs']).count()"
   ]
  },
  {
   "cell_type": "code",
   "execution_count": 98,
   "id": "1311e1cd",
   "metadata": {
    "scrolled": true
   },
   "outputs": [
    {
     "data": {
      "text/plain": [
       "petsallowed\n",
       "negotiable    1974\n",
       "no            1244\n",
       "yes            176\n",
       "Name: petsallowed, dtype: int64"
      ]
     },
     "execution_count": 98,
     "metadata": {},
     "output_type": "execute_result"
    }
   ],
   "source": [
    "# Counting pet-allowed groups\n",
    "df['petsallowed'].groupby(df['petsallowed']).count()"
   ]
  },
  {
   "cell_type": "code",
   "execution_count": 24,
   "id": "0a535c37",
   "metadata": {},
   "outputs": [
    {
     "name": "stdout",
     "output_type": "stream",
     "text": [
      "-60.0 3350.0\n",
      "outliers too low:0\n",
      "outliers too high: 17\n"
     ]
    }
   ],
   "source": [
    "# Checking outliers - identifying IQR\n",
    "df['baserent'].describe()\n",
    "IQR=df['baserent'].quantile(0.75)-df['baserent'].quantile(0.25)\n",
    "base_min=df['baserent'].quantile(0.25)-1.5*IQR\n",
    "base_max=df['baserent'].quantile(0.75)+3*IQR\n",
    "print(base_min, base_max)\n",
    "\n",
    "#countring how many flats are outliers\n",
    "x_low=0\n",
    "x_high=0\n",
    "for price in df['baserent']:\n",
    "    if price<base_min:\n",
    "        x_low+=1\n",
    "    elif price>base_max:\n",
    "        x_high+=1\n",
    "\n",
    "print(f'outliers too low:{x_low}\\noutliers too high: {x_high}')"
   ]
  },
  {
   "cell_type": "code",
   "execution_count": 25,
   "id": "8a724ad5",
   "metadata": {},
   "outputs": [],
   "source": [
    "# Dropping rows with outliers\n",
    "df = df.loc[df['baserent']<base_max]"
   ]
  },
  {
   "cell_type": "markdown",
   "id": "3acfbc34",
   "metadata": {},
   "source": [
    "### Machine Learning "
   ]
  },
  {
   "cell_type": "code",
   "execution_count": 26,
   "id": "9b431338",
   "metadata": {},
   "outputs": [],
   "source": [
    "# Splitting df into numericals and categoricals\n",
    "categoricals = df.select_dtypes(include=[object, bool])\n",
    "numericals = df.select_dtypes(include = 'number')"
   ]
  },
  {
   "cell_type": "code",
   "execution_count": 27,
   "id": "4a4f54b5",
   "metadata": {},
   "outputs": [
    {
     "data": {
      "text/html": [
       "<div>\n",
       "<style scoped>\n",
       "    .dataframe tbody tr th:only-of-type {\n",
       "        vertical-align: middle;\n",
       "    }\n",
       "\n",
       "    .dataframe tbody tr th {\n",
       "        vertical-align: top;\n",
       "    }\n",
       "\n",
       "    .dataframe thead th {\n",
       "        text-align: right;\n",
       "    }\n",
       "</style>\n",
       "<table border=\"1\" class=\"dataframe\">\n",
       "  <thead>\n",
       "    <tr style=\"text-align: right;\">\n",
       "      <th></th>\n",
       "      <th>balcony</th>\n",
       "      <th>haskitchen</th>\n",
       "      <th>cellar</th>\n",
       "      <th>petsallowed</th>\n",
       "      <th>geo_krs</th>\n",
       "      <th>lift</th>\n",
       "      <th>garden</th>\n",
       "      <th>energyefficiencyclass</th>\n",
       "    </tr>\n",
       "  </thead>\n",
       "  <tbody>\n",
       "    <tr>\n",
       "      <th>0</th>\n",
       "      <td>True</td>\n",
       "      <td>True</td>\n",
       "      <td>True</td>\n",
       "      <td>negotiable</td>\n",
       "      <td>Berlin</td>\n",
       "      <td>True</td>\n",
       "      <td>False</td>\n",
       "      <td>B</td>\n",
       "    </tr>\n",
       "    <tr>\n",
       "      <th>1</th>\n",
       "      <td>True</td>\n",
       "      <td>False</td>\n",
       "      <td>False</td>\n",
       "      <td>no</td>\n",
       "      <td>M?nchen</td>\n",
       "      <td>True</td>\n",
       "      <td>False</td>\n",
       "      <td>C</td>\n",
       "    </tr>\n",
       "    <tr>\n",
       "      <th>2</th>\n",
       "      <td>True</td>\n",
       "      <td>False</td>\n",
       "      <td>True</td>\n",
       "      <td>negotiable</td>\n",
       "      <td>Hamburg</td>\n",
       "      <td>True</td>\n",
       "      <td>False</td>\n",
       "      <td>B</td>\n",
       "    </tr>\n",
       "  </tbody>\n",
       "</table>\n",
       "</div>"
      ],
      "text/plain": [
       "   balcony  haskitchen  cellar petsallowed  geo_krs  lift  garden  \\\n",
       "0     True        True    True  negotiable   Berlin  True   False   \n",
       "1     True       False   False          no  M?nchen  True   False   \n",
       "2     True       False    True  negotiable  Hamburg  True   False   \n",
       "\n",
       "  energyefficiencyclass  \n",
       "0                     B  \n",
       "1                     C  \n",
       "2                     B  "
      ]
     },
     "execution_count": 27,
     "metadata": {},
     "output_type": "execute_result"
    }
   ],
   "source": [
    "categoricals.head(3)"
   ]
  },
  {
   "cell_type": "code",
   "execution_count": 28,
   "id": "4190a74c",
   "metadata": {},
   "outputs": [
    {
     "data": {
      "text/html": [
       "<div>\n",
       "<style scoped>\n",
       "    .dataframe tbody tr th:only-of-type {\n",
       "        vertical-align: middle;\n",
       "    }\n",
       "\n",
       "    .dataframe tbody tr th {\n",
       "        vertical-align: top;\n",
       "    }\n",
       "\n",
       "    .dataframe thead th {\n",
       "        text-align: right;\n",
       "    }\n",
       "</style>\n",
       "<table border=\"1\" class=\"dataframe\">\n",
       "  <thead>\n",
       "    <tr style=\"text-align: right;\">\n",
       "      <th></th>\n",
       "      <th>baserent</th>\n",
       "      <th>livingspace</th>\n",
       "      <th>norooms</th>\n",
       "      <th>floor</th>\n",
       "    </tr>\n",
       "  </thead>\n",
       "  <tbody>\n",
       "    <tr>\n",
       "      <th>0</th>\n",
       "      <td>1338.43</td>\n",
       "      <td>73.54</td>\n",
       "      <td>2.0</td>\n",
       "      <td>0.0</td>\n",
       "    </tr>\n",
       "    <tr>\n",
       "      <th>1</th>\n",
       "      <td>1390.00</td>\n",
       "      <td>33.00</td>\n",
       "      <td>1.0</td>\n",
       "      <td>3.0</td>\n",
       "    </tr>\n",
       "    <tr>\n",
       "      <th>2</th>\n",
       "      <td>1299.00</td>\n",
       "      <td>90.30</td>\n",
       "      <td>3.0</td>\n",
       "      <td>2.0</td>\n",
       "    </tr>\n",
       "  </tbody>\n",
       "</table>\n",
       "</div>"
      ],
      "text/plain": [
       "   baserent  livingspace  norooms  floor\n",
       "0   1338.43        73.54      2.0    0.0\n",
       "1   1390.00        33.00      1.0    3.0\n",
       "2   1299.00        90.30      3.0    2.0"
      ]
     },
     "execution_count": 28,
     "metadata": {},
     "output_type": "execute_result"
    }
   ],
   "source": [
    "numericals.head(3)"
   ]
  },
  {
   "cell_type": "code",
   "execution_count": 29,
   "id": "3aed31ae",
   "metadata": {},
   "outputs": [],
   "source": [
    "ordinals = categoricals[[\"energyefficiencyclass\", \"balcony\",\"haskitchen\", \"cellar\", \"lift\", \"garden\", \"petsallowed\"]].reset_index()\n",
    "nominals = categoricals.drop(columns=[\"energyefficiencyclass\", \"balcony\",\"haskitchen\", \"cellar\", \"lift\", \"garden\",\"petsallowed\"]).reset_index()\n"
   ]
  },
  {
   "cell_type": "code",
   "execution_count": 30,
   "id": "5a806235",
   "metadata": {},
   "outputs": [
    {
     "data": {
      "text/html": [
       "<div>\n",
       "<style scoped>\n",
       "    .dataframe tbody tr th:only-of-type {\n",
       "        vertical-align: middle;\n",
       "    }\n",
       "\n",
       "    .dataframe tbody tr th {\n",
       "        vertical-align: top;\n",
       "    }\n",
       "\n",
       "    .dataframe thead th {\n",
       "        text-align: right;\n",
       "    }\n",
       "</style>\n",
       "<table border=\"1\" class=\"dataframe\">\n",
       "  <thead>\n",
       "    <tr style=\"text-align: right;\">\n",
       "      <th></th>\n",
       "      <th>geo_krs</th>\n",
       "    </tr>\n",
       "  </thead>\n",
       "  <tbody>\n",
       "    <tr>\n",
       "      <th>0</th>\n",
       "      <td>Berlin</td>\n",
       "    </tr>\n",
       "    <tr>\n",
       "      <th>1</th>\n",
       "      <td>M?nchen</td>\n",
       "    </tr>\n",
       "    <tr>\n",
       "      <th>2</th>\n",
       "      <td>Hamburg</td>\n",
       "    </tr>\n",
       "    <tr>\n",
       "      <th>3</th>\n",
       "      <td>M?nchen</td>\n",
       "    </tr>\n",
       "    <tr>\n",
       "      <th>4</th>\n",
       "      <td>Dresden</td>\n",
       "    </tr>\n",
       "    <tr>\n",
       "      <th>...</th>\n",
       "      <td>...</td>\n",
       "    </tr>\n",
       "    <tr>\n",
       "      <th>1856</th>\n",
       "      <td>Dresden</td>\n",
       "    </tr>\n",
       "    <tr>\n",
       "      <th>1857</th>\n",
       "      <td>Leipzig</td>\n",
       "    </tr>\n",
       "    <tr>\n",
       "      <th>1858</th>\n",
       "      <td>Dresden</td>\n",
       "    </tr>\n",
       "    <tr>\n",
       "      <th>1859</th>\n",
       "      <td>Berlin</td>\n",
       "    </tr>\n",
       "    <tr>\n",
       "      <th>1860</th>\n",
       "      <td>Dresden</td>\n",
       "    </tr>\n",
       "  </tbody>\n",
       "</table>\n",
       "<p>1861 rows × 1 columns</p>\n",
       "</div>"
      ],
      "text/plain": [
       "      geo_krs\n",
       "0      Berlin\n",
       "1     M?nchen\n",
       "2     Hamburg\n",
       "3     M?nchen\n",
       "4     Dresden\n",
       "...       ...\n",
       "1856  Dresden\n",
       "1857  Leipzig\n",
       "1858  Dresden\n",
       "1859   Berlin\n",
       "1860  Dresden\n",
       "\n",
       "[1861 rows x 1 columns]"
      ]
     },
     "execution_count": 30,
     "metadata": {},
     "output_type": "execute_result"
    }
   ],
   "source": [
    "nominals=nominals.drop('index', axis=1)\n",
    "nominals"
   ]
  },
  {
   "cell_type": "code",
   "execution_count": 31,
   "id": "49b4a4b5",
   "metadata": {},
   "outputs": [
    {
     "data": {
      "text/plain": [
       "energyefficiencyclass\n",
       "A         521\n",
       "A_PLUS    355\n",
       "B         765\n",
       "C         173\n",
       "D          29\n",
       "E           1\n",
       "Name: energyefficiencyclass, dtype: int64"
      ]
     },
     "execution_count": 31,
     "metadata": {},
     "output_type": "execute_result"
    }
   ],
   "source": [
    "# Checking how we will encode the ordinals\n",
    "ordinals[\"energyefficiencyclass\"].groupby(df[\"energyefficiencyclass\"]).count()"
   ]
  },
  {
   "cell_type": "code",
   "execution_count": 32,
   "id": "e80954bf",
   "metadata": {},
   "outputs": [],
   "source": [
    "from sklearn.preprocessing import OrdinalEncoder"
   ]
  },
  {
   "cell_type": "code",
   "execution_count": 33,
   "id": "1837dd65",
   "metadata": {},
   "outputs": [],
   "source": [
    "# Encoding energy efficiency class for model creation\n",
    "enc = OrdinalEncoder(categories=[[\"F\", \"E\", \"D\", \"C\", \"B\",\"A\", \"A_PLUS\"]])\n",
    "\n",
    "ordinals[\"energyefficiencyclass\"] = enc.fit_transform(ordinals[[\"energyefficiencyclass\"]])"
   ]
  },
  {
   "cell_type": "code",
   "execution_count": 34,
   "id": "d935834d",
   "metadata": {},
   "outputs": [],
   "source": [
    "# Encoding haskitchen for model creation\n",
    "ordinals[\"haskitchen\"] = ordinals[\"haskitchen\"].astype(object)\n",
    "enc = OrdinalEncoder(categories=[[False, True]])\n",
    "ordinals[\"haskitchen\"] = enc.fit_transform(ordinals[[\"haskitchen\"]])"
   ]
  },
  {
   "cell_type": "code",
   "execution_count": 35,
   "id": "26d4b646",
   "metadata": {},
   "outputs": [],
   "source": [
    "# Encoding balcony for model creation\n",
    "ordinals[\"balcony\"] = ordinals[\"balcony\"].astype(object)\n",
    "enc = OrdinalEncoder(categories=[[False, True]])\n",
    "ordinals[\"balcony\"] = enc.fit_transform(ordinals[[\"balcony\"]])"
   ]
  },
  {
   "cell_type": "code",
   "execution_count": 36,
   "id": "ce541604",
   "metadata": {},
   "outputs": [],
   "source": [
    "# Encoding cellar for model creation\n",
    "ordinals[\"cellar\"] = ordinals[\"cellar\"].astype(object)\n",
    "enc = OrdinalEncoder(categories=[[False, True]])\n",
    "ordinals[\"cellar\"] = enc.fit_transform(ordinals[[\"cellar\"]])"
   ]
  },
  {
   "cell_type": "code",
   "execution_count": 37,
   "id": "779152ee",
   "metadata": {},
   "outputs": [],
   "source": [
    "# Encoding lift for model creation\n",
    "ordinals[\"lift\"] = ordinals[\"lift\"].astype(object)\n",
    "enc = OrdinalEncoder(categories=[[False, True]])\n",
    "ordinals[\"lift\"] = enc.fit_transform(ordinals[[\"lift\"]])"
   ]
  },
  {
   "cell_type": "code",
   "execution_count": 38,
   "id": "0f9cb9ce",
   "metadata": {},
   "outputs": [],
   "source": [
    "# Encoding garden for model creation\n",
    "ordinals[\"garden\"] = ordinals[\"garden\"].astype(object)\n",
    "enc = OrdinalEncoder(categories=[[False, True]])\n",
    "ordinals[\"garden\"] = enc.fit_transform(ordinals[[\"garden\"]])"
   ]
  },
  {
   "cell_type": "code",
   "execution_count": 39,
   "id": "b20b4b29",
   "metadata": {},
   "outputs": [],
   "source": [
    "# Encoding petsallowed for model creation\n",
    "enc = OrdinalEncoder(categories=[['no', 'negotiable', 'yes']])\n",
    "ordinals[\"petsallowed\"] = enc.fit_transform(ordinals[[\"petsallowed\"]])"
   ]
  },
  {
   "cell_type": "code",
   "execution_count": 40,
   "id": "9643f00c",
   "metadata": {},
   "outputs": [],
   "source": [
    "# Making dummies from nominals\n",
    "nominals = pd.get_dummies(nominals, dtype=int)"
   ]
  },
  {
   "cell_type": "code",
   "execution_count": 41,
   "id": "99cebfe6",
   "metadata": {},
   "outputs": [],
   "source": [
    "# Concating ordinals and nominals\n",
    "categorical = pd.concat([ordinals,nominals], axis=1).reset_index()"
   ]
  },
  {
   "cell_type": "code",
   "execution_count": 42,
   "id": "3c81da31",
   "metadata": {},
   "outputs": [],
   "source": [
    "categorical=categorical.drop(['level_0', 'index'], axis=1)"
   ]
  },
  {
   "cell_type": "code",
   "execution_count": 43,
   "id": "cda26a01",
   "metadata": {},
   "outputs": [],
   "source": [
    "categorical=categorical.reset_index()\n"
   ]
  },
  {
   "cell_type": "code",
   "execution_count": 44,
   "id": "2ac685ab",
   "metadata": {},
   "outputs": [],
   "source": [
    "numericals=numericals.reset_index()\n"
   ]
  },
  {
   "cell_type": "code",
   "execution_count": 45,
   "id": "c66726ba",
   "metadata": {},
   "outputs": [
    {
     "data": {
      "image/png": "[encoded data removed]",
      "text/plain": [
       "<Figure size 1000x800 with 2 Axes>"
      ]
     },
     "metadata": {},
     "output_type": "display_data"
    }
   ],
   "source": [
    "import matplotlib.pyplot as plt\n",
    "corr_matrix = numericals.corr()\n",
    "plt.figure(figsize=(10, 8))\n",
    "sns.heatmap(corr_matrix, annot=True, cmap='coolwarm', fmt=\".2f\", linewidths=.05, cbar_kws={'shrink': .8})\n",
    "plt.title('Correlation Heatmap')\n",
    "plt.show()"
   ]
  },
  {
   "cell_type": "code",
   "execution_count": 47,
   "id": "0a918762",
   "metadata": {},
   "outputs": [
    {
     "data": {
      "text/html": [
       "<div>\n",
       "<style scoped>\n",
       "    .dataframe tbody tr th:only-of-type {\n",
       "        vertical-align: middle;\n",
       "    }\n",
       "\n",
       "    .dataframe tbody tr th {\n",
       "        vertical-align: top;\n",
       "    }\n",
       "\n",
       "    .dataframe thead th {\n",
       "        text-align: right;\n",
       "    }\n",
       "</style>\n",
       "<table border=\"1\" class=\"dataframe\">\n",
       "  <thead>\n",
       "    <tr style=\"text-align: right;\">\n",
       "      <th></th>\n",
       "      <th>baserent</th>\n",
       "      <th>livingspace</th>\n",
       "      <th>norooms</th>\n",
       "      <th>floor</th>\n",
       "      <th>energyefficiencyclass</th>\n",
       "      <th>balcony</th>\n",
       "      <th>haskitchen</th>\n",
       "      <th>cellar</th>\n",
       "      <th>lift</th>\n",
       "      <th>garden</th>\n",
       "      <th>...</th>\n",
       "      <th>geo_krs_N?rnberg</th>\n",
       "      <th>geo_krs_Offenbach_Kreis</th>\n",
       "      <th>geo_krs_Ortenaukreis</th>\n",
       "      <th>geo_krs_Potsdam_Mittelmark_Kreis</th>\n",
       "      <th>geo_krs_Rhein_Erft_Kreis</th>\n",
       "      <th>geo_krs_Rhein_Sieg_Kreis</th>\n",
       "      <th>geo_krs_Rheinisch_Bergischer_Kreis</th>\n",
       "      <th>geo_krs_Stade_Kreis</th>\n",
       "      <th>geo_krs_Stormarn_Kreis</th>\n",
       "      <th>geo_krs_Westerwaldkreis</th>\n",
       "    </tr>\n",
       "  </thead>\n",
       "  <tbody>\n",
       "    <tr>\n",
       "      <th>0</th>\n",
       "      <td>1338.43</td>\n",
       "      <td>73.54</td>\n",
       "      <td>2.0</td>\n",
       "      <td>0.0</td>\n",
       "      <td>4.0</td>\n",
       "      <td>1.0</td>\n",
       "      <td>1.0</td>\n",
       "      <td>1.0</td>\n",
       "      <td>1.0</td>\n",
       "      <td>0.0</td>\n",
       "      <td>...</td>\n",
       "      <td>0</td>\n",
       "      <td>0</td>\n",
       "      <td>0</td>\n",
       "      <td>0</td>\n",
       "      <td>0</td>\n",
       "      <td>0</td>\n",
       "      <td>0</td>\n",
       "      <td>0</td>\n",
       "      <td>0</td>\n",
       "      <td>0</td>\n",
       "    </tr>\n",
       "    <tr>\n",
       "      <th>1</th>\n",
       "      <td>1390.00</td>\n",
       "      <td>33.00</td>\n",
       "      <td>1.0</td>\n",
       "      <td>3.0</td>\n",
       "      <td>3.0</td>\n",
       "      <td>1.0</td>\n",
       "      <td>0.0</td>\n",
       "      <td>0.0</td>\n",
       "      <td>1.0</td>\n",
       "      <td>0.0</td>\n",
       "      <td>...</td>\n",
       "      <td>0</td>\n",
       "      <td>0</td>\n",
       "      <td>0</td>\n",
       "      <td>0</td>\n",
       "      <td>0</td>\n",
       "      <td>0</td>\n",
       "      <td>0</td>\n",
       "      <td>0</td>\n",
       "      <td>0</td>\n",
       "      <td>0</td>\n",
       "    </tr>\n",
       "    <tr>\n",
       "      <th>2</th>\n",
       "      <td>1299.00</td>\n",
       "      <td>90.30</td>\n",
       "      <td>3.0</td>\n",
       "      <td>2.0</td>\n",
       "      <td>4.0</td>\n",
       "      <td>1.0</td>\n",
       "      <td>0.0</td>\n",
       "      <td>1.0</td>\n",
       "      <td>1.0</td>\n",
       "      <td>0.0</td>\n",
       "      <td>...</td>\n",
       "      <td>0</td>\n",
       "      <td>0</td>\n",
       "      <td>0</td>\n",
       "      <td>0</td>\n",
       "      <td>0</td>\n",
       "      <td>0</td>\n",
       "      <td>0</td>\n",
       "      <td>0</td>\n",
       "      <td>0</td>\n",
       "      <td>0</td>\n",
       "    </tr>\n",
       "  </tbody>\n",
       "</table>\n",
       "<p>3 rows × 47 columns</p>\n",
       "</div>"
      ],
      "text/plain": [
       "   baserent  livingspace  norooms  floor  energyefficiencyclass  balcony  \\\n",
       "0   1338.43        73.54      2.0    0.0                    4.0      1.0   \n",
       "1   1390.00        33.00      1.0    3.0                    3.0      1.0   \n",
       "2   1299.00        90.30      3.0    2.0                    4.0      1.0   \n",
       "\n",
       "   haskitchen  cellar  lift  garden  ...  geo_krs_N?rnberg  \\\n",
       "0         1.0     1.0   1.0     0.0  ...                 0   \n",
       "1         0.0     0.0   1.0     0.0  ...                 0   \n",
       "2         0.0     1.0   1.0     0.0  ...                 0   \n",
       "\n",
       "   geo_krs_Offenbach_Kreis  geo_krs_Ortenaukreis  \\\n",
       "0                        0                     0   \n",
       "1                        0                     0   \n",
       "2                        0                     0   \n",
       "\n",
       "   geo_krs_Potsdam_Mittelmark_Kreis  geo_krs_Rhein_Erft_Kreis  \\\n",
       "0                                 0                         0   \n",
       "1                                 0                         0   \n",
       "2                                 0                         0   \n",
       "\n",
       "   geo_krs_Rhein_Sieg_Kreis  geo_krs_Rheinisch_Bergischer_Kreis  \\\n",
       "0                         0                                   0   \n",
       "1                         0                                   0   \n",
       "2                         0                                   0   \n",
       "\n",
       "   geo_krs_Stade_Kreis  geo_krs_Stormarn_Kreis  geo_krs_Westerwaldkreis  \n",
       "0                    0                       0                        0  \n",
       "1                    0                       0                        0  \n",
       "2                    0                       0                        0  \n",
       "\n",
       "[3 rows x 47 columns]"
      ]
     },
     "execution_count": 47,
     "metadata": {},
     "output_type": "execute_result"
    }
   ],
   "source": [
    "# Concating categoricals and numericals\n",
    "final_df = pd.concat([numericals,categorical], axis=1).drop('index', axis=1)\n",
    "final_df.head(3)"
   ]
  },
  {
   "cell_type": "markdown",
   "id": "741ec504",
   "metadata": {},
   "source": [
    "## Model creation"
   ]
  },
  {
   "cell_type": "markdown",
   "id": "b8ffeeb8",
   "metadata": {},
   "source": [
    "##### X-y split (y is the target variable, in this case, \"cold rent\")"
   ]
  },
  {
   "cell_type": "code",
   "execution_count": 48,
   "id": "237de818",
   "metadata": {},
   "outputs": [],
   "source": [
    "#X-y split\n",
    "X=final_df.drop('baserent', axis=1)\n",
    "y=final_df[['baserent']]\n"
   ]
  },
  {
   "cell_type": "code",
   "execution_count": 49,
   "id": "f7836614",
   "metadata": {},
   "outputs": [
    {
     "data": {
      "text/html": [
       "<div>\n",
       "<style scoped>\n",
       "    .dataframe tbody tr th:only-of-type {\n",
       "        vertical-align: middle;\n",
       "    }\n",
       "\n",
       "    .dataframe tbody tr th {\n",
       "        vertical-align: top;\n",
       "    }\n",
       "\n",
       "    .dataframe thead th {\n",
       "        text-align: right;\n",
       "    }\n",
       "</style>\n",
       "<table border=\"1\" class=\"dataframe\">\n",
       "  <thead>\n",
       "    <tr style=\"text-align: right;\">\n",
       "      <th></th>\n",
       "      <th>livingspace</th>\n",
       "      <th>norooms</th>\n",
       "      <th>floor</th>\n",
       "      <th>energyefficiencyclass</th>\n",
       "      <th>balcony</th>\n",
       "      <th>haskitchen</th>\n",
       "      <th>cellar</th>\n",
       "      <th>lift</th>\n",
       "      <th>garden</th>\n",
       "      <th>petsallowed</th>\n",
       "      <th>...</th>\n",
       "      <th>geo_krs_N?rnberg</th>\n",
       "      <th>geo_krs_Offenbach_Kreis</th>\n",
       "      <th>geo_krs_Ortenaukreis</th>\n",
       "      <th>geo_krs_Potsdam_Mittelmark_Kreis</th>\n",
       "      <th>geo_krs_Rhein_Erft_Kreis</th>\n",
       "      <th>geo_krs_Rhein_Sieg_Kreis</th>\n",
       "      <th>geo_krs_Rheinisch_Bergischer_Kreis</th>\n",
       "      <th>geo_krs_Stade_Kreis</th>\n",
       "      <th>geo_krs_Stormarn_Kreis</th>\n",
       "      <th>geo_krs_Westerwaldkreis</th>\n",
       "    </tr>\n",
       "  </thead>\n",
       "  <tbody>\n",
       "    <tr>\n",
       "      <th>0</th>\n",
       "      <td>73.54</td>\n",
       "      <td>2.0</td>\n",
       "      <td>0.0</td>\n",
       "      <td>4.0</td>\n",
       "      <td>1.0</td>\n",
       "      <td>1.0</td>\n",
       "      <td>1.0</td>\n",
       "      <td>1.0</td>\n",
       "      <td>0.0</td>\n",
       "      <td>1.0</td>\n",
       "      <td>...</td>\n",
       "      <td>0</td>\n",
       "      <td>0</td>\n",
       "      <td>0</td>\n",
       "      <td>0</td>\n",
       "      <td>0</td>\n",
       "      <td>0</td>\n",
       "      <td>0</td>\n",
       "      <td>0</td>\n",
       "      <td>0</td>\n",
       "      <td>0</td>\n",
       "    </tr>\n",
       "    <tr>\n",
       "      <th>1</th>\n",
       "      <td>33.00</td>\n",
       "      <td>1.0</td>\n",
       "      <td>3.0</td>\n",
       "      <td>3.0</td>\n",
       "      <td>1.0</td>\n",
       "      <td>0.0</td>\n",
       "      <td>0.0</td>\n",
       "      <td>1.0</td>\n",
       "      <td>0.0</td>\n",
       "      <td>0.0</td>\n",
       "      <td>...</td>\n",
       "      <td>0</td>\n",
       "      <td>0</td>\n",
       "      <td>0</td>\n",
       "      <td>0</td>\n",
       "      <td>0</td>\n",
       "      <td>0</td>\n",
       "      <td>0</td>\n",
       "      <td>0</td>\n",
       "      <td>0</td>\n",
       "      <td>0</td>\n",
       "    </tr>\n",
       "    <tr>\n",
       "      <th>2</th>\n",
       "      <td>90.30</td>\n",
       "      <td>3.0</td>\n",
       "      <td>2.0</td>\n",
       "      <td>4.0</td>\n",
       "      <td>1.0</td>\n",
       "      <td>0.0</td>\n",
       "      <td>1.0</td>\n",
       "      <td>1.0</td>\n",
       "      <td>0.0</td>\n",
       "      <td>1.0</td>\n",
       "      <td>...</td>\n",
       "      <td>0</td>\n",
       "      <td>0</td>\n",
       "      <td>0</td>\n",
       "      <td>0</td>\n",
       "      <td>0</td>\n",
       "      <td>0</td>\n",
       "      <td>0</td>\n",
       "      <td>0</td>\n",
       "      <td>0</td>\n",
       "      <td>0</td>\n",
       "    </tr>\n",
       "    <tr>\n",
       "      <th>3</th>\n",
       "      <td>91.00</td>\n",
       "      <td>1.5</td>\n",
       "      <td>2.0</td>\n",
       "      <td>5.0</td>\n",
       "      <td>1.0</td>\n",
       "      <td>1.0</td>\n",
       "      <td>1.0</td>\n",
       "      <td>1.0</td>\n",
       "      <td>0.0</td>\n",
       "      <td>0.0</td>\n",
       "      <td>...</td>\n",
       "      <td>0</td>\n",
       "      <td>0</td>\n",
       "      <td>0</td>\n",
       "      <td>0</td>\n",
       "      <td>0</td>\n",
       "      <td>0</td>\n",
       "      <td>0</td>\n",
       "      <td>0</td>\n",
       "      <td>0</td>\n",
       "      <td>0</td>\n",
       "    </tr>\n",
       "    <tr>\n",
       "      <th>4</th>\n",
       "      <td>116.28</td>\n",
       "      <td>3.0</td>\n",
       "      <td>1.0</td>\n",
       "      <td>3.0</td>\n",
       "      <td>1.0</td>\n",
       "      <td>1.0</td>\n",
       "      <td>1.0</td>\n",
       "      <td>1.0</td>\n",
       "      <td>0.0</td>\n",
       "      <td>2.0</td>\n",
       "      <td>...</td>\n",
       "      <td>0</td>\n",
       "      <td>0</td>\n",
       "      <td>0</td>\n",
       "      <td>0</td>\n",
       "      <td>0</td>\n",
       "      <td>0</td>\n",
       "      <td>0</td>\n",
       "      <td>0</td>\n",
       "      <td>0</td>\n",
       "      <td>0</td>\n",
       "    </tr>\n",
       "  </tbody>\n",
       "</table>\n",
       "<p>5 rows × 46 columns</p>\n",
       "</div>"
      ],
      "text/plain": [
       "   livingspace  norooms  floor  energyefficiencyclass  balcony  haskitchen  \\\n",
       "0        73.54      2.0    0.0                    4.0      1.0         1.0   \n",
       "1        33.00      1.0    3.0                    3.0      1.0         0.0   \n",
       "2        90.30      3.0    2.0                    4.0      1.0         0.0   \n",
       "3        91.00      1.5    2.0                    5.0      1.0         1.0   \n",
       "4       116.28      3.0    1.0                    3.0      1.0         1.0   \n",
       "\n",
       "   cellar  lift  garden  petsallowed  ...  geo_krs_N?rnberg  \\\n",
       "0     1.0   1.0     0.0          1.0  ...                 0   \n",
       "1     0.0   1.0     0.0          0.0  ...                 0   \n",
       "2     1.0   1.0     0.0          1.0  ...                 0   \n",
       "3     1.0   1.0     0.0          0.0  ...                 0   \n",
       "4     1.0   1.0     0.0          2.0  ...                 0   \n",
       "\n",
       "   geo_krs_Offenbach_Kreis  geo_krs_Ortenaukreis  \\\n",
       "0                        0                     0   \n",
       "1                        0                     0   \n",
       "2                        0                     0   \n",
       "3                        0                     0   \n",
       "4                        0                     0   \n",
       "\n",
       "   geo_krs_Potsdam_Mittelmark_Kreis  geo_krs_Rhein_Erft_Kreis  \\\n",
       "0                                 0                         0   \n",
       "1                                 0                         0   \n",
       "2                                 0                         0   \n",
       "3                                 0                         0   \n",
       "4                                 0                         0   \n",
       "\n",
       "   geo_krs_Rhein_Sieg_Kreis  geo_krs_Rheinisch_Bergischer_Kreis  \\\n",
       "0                         0                                   0   \n",
       "1                         0                                   0   \n",
       "2                         0                                   0   \n",
       "3                         0                                   0   \n",
       "4                         0                                   0   \n",
       "\n",
       "   geo_krs_Stade_Kreis  geo_krs_Stormarn_Kreis  geo_krs_Westerwaldkreis  \n",
       "0                    0                       0                        0  \n",
       "1                    0                       0                        0  \n",
       "2                    0                       0                        0  \n",
       "3                    0                       0                        0  \n",
       "4                    0                       0                        0  \n",
       "\n",
       "[5 rows x 46 columns]"
      ]
     },
     "execution_count": 49,
     "metadata": {},
     "output_type": "execute_result"
    }
   ],
   "source": [
    "X.head()"
   ]
  },
  {
   "cell_type": "code",
   "execution_count": 50,
   "id": "288999c9",
   "metadata": {},
   "outputs": [
    {
     "data": {
      "text/html": [
       "<div>\n",
       "<style scoped>\n",
       "    .dataframe tbody tr th:only-of-type {\n",
       "        vertical-align: middle;\n",
       "    }\n",
       "\n",
       "    .dataframe tbody tr th {\n",
       "        vertical-align: top;\n",
       "    }\n",
       "\n",
       "    .dataframe thead th {\n",
       "        text-align: right;\n",
       "    }\n",
       "</style>\n",
       "<table border=\"1\" class=\"dataframe\">\n",
       "  <thead>\n",
       "    <tr style=\"text-align: right;\">\n",
       "      <th></th>\n",
       "      <th>baserent</th>\n",
       "    </tr>\n",
       "  </thead>\n",
       "  <tbody>\n",
       "    <tr>\n",
       "      <th>0</th>\n",
       "      <td>1338.43</td>\n",
       "    </tr>\n",
       "    <tr>\n",
       "      <th>1</th>\n",
       "      <td>1390.00</td>\n",
       "    </tr>\n",
       "    <tr>\n",
       "      <th>2</th>\n",
       "      <td>1299.00</td>\n",
       "    </tr>\n",
       "    <tr>\n",
       "      <th>3</th>\n",
       "      <td>1680.00</td>\n",
       "    </tr>\n",
       "    <tr>\n",
       "      <th>4</th>\n",
       "      <td>1337.22</td>\n",
       "    </tr>\n",
       "  </tbody>\n",
       "</table>\n",
       "</div>"
      ],
      "text/plain": [
       "   baserent\n",
       "0   1338.43\n",
       "1   1390.00\n",
       "2   1299.00\n",
       "3   1680.00\n",
       "4   1337.22"
      ]
     },
     "execution_count": 50,
     "metadata": {},
     "output_type": "execute_result"
    }
   ],
   "source": [
    "y.head()"
   ]
  },
  {
   "cell_type": "markdown",
   "id": "b58110af",
   "metadata": {},
   "source": [
    "### train_test_split"
   ]
  },
  {
   "cell_type": "code",
   "execution_count": 51,
   "id": "91f24585",
   "metadata": {},
   "outputs": [],
   "source": [
    "#train_test split\n"
   ]
  },
  {
   "cell_type": "code",
   "execution_count": 52,
   "id": "65566eb5",
   "metadata": {},
   "outputs": [],
   "source": [
    "from sklearn.model_selection import train_test_split\n"
   ]
  },
  {
   "cell_type": "code",
   "execution_count": 53,
   "id": "6e3a5c84",
   "metadata": {},
   "outputs": [],
   "source": [
    "X_train, X_test, y_train, y_test = train_test_split(X,y,random_state = 42)\n"
   ]
  },
  {
   "cell_type": "code",
   "execution_count": 54,
   "id": "3851cdbb",
   "metadata": {},
   "outputs": [
    {
     "data": {
      "text/plain": [
       "Index(['livingspace', 'norooms', 'floor', 'energyefficiencyclass', 'balcony',\n",
       "       'haskitchen', 'cellar', 'lift', 'garden', 'petsallowed',\n",
       "       'geo_krs_Aachen', 'geo_krs_Aachen_Kreis', 'geo_krs_Berlin',\n",
       "       'geo_krs_Bielefeld', 'geo_krs_Bonn', 'geo_krs_Braunschweig',\n",
       "       'geo_krs_D?sseldorf', 'geo_krs_Dortmund', 'geo_krs_Dresden',\n",
       "       'geo_krs_Frankfurt_am_Main', 'geo_krs_G?tersloh_Kreis',\n",
       "       'geo_krs_Gro?_Gerau_Kreis', 'geo_krs_Hamburg', 'geo_krs_Hannover_Kreis',\n",
       "       'geo_krs_Harburg_Kreis', 'geo_krs_Heilbronn_Kreis', 'geo_krs_Koblenz',\n",
       "       'geo_krs_Leipzig', 'geo_krs_M?hldorf_am_Inn_Kreis', 'geo_krs_M?nchen',\n",
       "       'geo_krs_M?nchengladbach', 'geo_krs_M?nster', 'geo_krs_Magdeburg',\n",
       "       'geo_krs_Main_Kinzig_Kreis', 'geo_krs_Mainz', 'geo_krs_Mannheim',\n",
       "       'geo_krs_N?rnberg', 'geo_krs_Offenbach_Kreis', 'geo_krs_Ortenaukreis',\n",
       "       'geo_krs_Potsdam_Mittelmark_Kreis', 'geo_krs_Rhein_Erft_Kreis',\n",
       "       'geo_krs_Rhein_Sieg_Kreis', 'geo_krs_Rheinisch_Bergischer_Kreis',\n",
       "       'geo_krs_Stade_Kreis', 'geo_krs_Stormarn_Kreis',\n",
       "       'geo_krs_Westerwaldkreis'],\n",
       "      dtype='object')"
      ]
     },
     "execution_count": 54,
     "metadata": {},
     "output_type": "execute_result"
    }
   ],
   "source": [
    "columns_order = X_train.columns\n",
    "columns_order"
   ]
  },
  {
   "cell_type": "code",
   "execution_count": 56,
   "id": "150b7d43",
   "metadata": {},
   "outputs": [
    {
     "data": {
      "text/plain": [
       "array([[<Axes: title={'center': 'baserent'}>]], dtype=object)"
      ]
     },
     "execution_count": 56,
     "metadata": {},
     "output_type": "execute_result"
    },
    {
     "data": {
      "image/png": "[encoded data removed]",
      "text/plain": [
       "<Figure size 640x480 with 1 Axes>"
      ]
     },
     "metadata": {},
     "output_type": "display_data"
    }
   ],
   "source": [
    "y_train.hist()"
   ]
  },
  {
   "cell_type": "markdown",
   "id": "ea7bd538",
   "metadata": {},
   "source": [
    "### using powertransform for X and Y\n"
   ]
  },
  {
   "cell_type": "code",
   "execution_count": 57,
   "id": "49cc460f",
   "metadata": {},
   "outputs": [],
   "source": [
    "from sklearn.preprocessing import PowerTransformer\n"
   ]
  },
  {
   "cell_type": "code",
   "execution_count": 58,
   "id": "941eb217",
   "metadata": {},
   "outputs": [
    {
     "data": {
      "text/html": [
       "<style>#sk-container-id-1 {color: black;}#sk-container-id-1 pre{padding: 0;}#sk-container-id-1 div.sk-toggleable {background-color: white;}#sk-container-id-1 label.sk-toggleable__label {cursor: pointer;display: block;width: 100%;margin-bottom: 0;padding: 0.3em;box-sizing: border-box;text-align: center;}#sk-container-id-1 label.sk-toggleable__label-arrow:before {content: \"▸\";float: left;margin-right: 0.25em;color: #696969;}#sk-container-id-1 label.sk-toggleable__label-arrow:hover:before {color: black;}#sk-container-id-1 div.sk-estimator:hover label.sk-toggleable__label-arrow:before {color: black;}#sk-container-id-1 div.sk-toggleable__content {max-height: 0;max-width: 0;overflow: hidden;text-align: left;background-color: #f0f8ff;}#sk-container-id-1 div.sk-toggleable__content pre {margin: 0.2em;color: black;border-radius: 0.25em;background-color: #f0f8ff;}#sk-container-id-1 input.sk-toggleable__control:checked~div.sk-toggleable__content {max-height: 200px;max-width: 100%;overflow: auto;}#sk-container-id-1 input.sk-toggleable__control:checked~label.sk-toggleable__label-arrow:before {content: \"▾\";}#sk-container-id-1 div.sk-estimator input.sk-toggleable__control:checked~label.sk-toggleable__label {background-color: #d4ebff;}#sk-container-id-1 div.sk-label input.sk-toggleable__control:checked~label.sk-toggleable__label {background-color: #d4ebff;}#sk-container-id-1 input.sk-hidden--visually {border: 0;clip: rect(1px 1px 1px 1px);clip: rect(1px, 1px, 1px, 1px);height: 1px;margin: -1px;overflow: hidden;padding: 0;position: absolute;width: 1px;}#sk-container-id-1 div.sk-estimator {font-family: monospace;background-color: #f0f8ff;border: 1px dotted black;border-radius: 0.25em;box-sizing: border-box;margin-bottom: 0.5em;}#sk-container-id-1 div.sk-estimator:hover {background-color: #d4ebff;}#sk-container-id-1 div.sk-parallel-item::after {content: \"\";width: 100%;border-bottom: 1px solid gray;flex-grow: 1;}#sk-container-id-1 div.sk-label:hover label.sk-toggleable__label {background-color: #d4ebff;}#sk-container-id-1 div.sk-serial::before {content: \"\";position: absolute;border-left: 1px solid gray;box-sizing: border-box;top: 0;bottom: 0;left: 50%;z-index: 0;}#sk-container-id-1 div.sk-serial {display: flex;flex-direction: column;align-items: center;background-color: white;padding-right: 0.2em;padding-left: 0.2em;position: relative;}#sk-container-id-1 div.sk-item {position: relative;z-index: 1;}#sk-container-id-1 div.sk-parallel {display: flex;align-items: stretch;justify-content: center;background-color: white;position: relative;}#sk-container-id-1 div.sk-item::before, #sk-container-id-1 div.sk-parallel-item::before {content: \"\";position: absolute;border-left: 1px solid gray;box-sizing: border-box;top: 0;bottom: 0;left: 50%;z-index: -1;}#sk-container-id-1 div.sk-parallel-item {display: flex;flex-direction: column;z-index: 1;position: relative;background-color: white;}#sk-container-id-1 div.sk-parallel-item:first-child::after {align-self: flex-end;width: 50%;}#sk-container-id-1 div.sk-parallel-item:last-child::after {align-self: flex-start;width: 50%;}#sk-container-id-1 div.sk-parallel-item:only-child::after {width: 0;}#sk-container-id-1 div.sk-dashed-wrapped {border: 1px dashed gray;margin: 0 0.4em 0.5em 0.4em;box-sizing: border-box;padding-bottom: 0.4em;background-color: white;}#sk-container-id-1 div.sk-label label {font-family: monospace;font-weight: bold;display: inline-block;line-height: 1.2em;}#sk-container-id-1 div.sk-label-container {text-align: center;}#sk-container-id-1 div.sk-container {/* jupyter's `normalize.less` sets `[hidden] { display: none; }` but bootstrap.min.css set `[hidden] { display: none !important; }` so we also need the `!important` here to be able to override the default hidden behavior on the sphinx rendered scikit-learn.org. See: https://github.com/scikit-learn/scikit-learn/issues/21755 */display: inline-block !important;position: relative;}#sk-container-id-1 div.sk-text-repr-fallback {display: none;}</style><div id=\"sk-container-id-1\" class=\"sk-top-container\"><div class=\"sk-text-repr-fallback\"><pre>PowerTransformer()</pre><b>In a Jupyter environment, please rerun this cell to show the HTML representation or trust the notebook. <br />On GitHub, the HTML representation is unable to render, please try loading this page with nbviewer.org.</b></div><div class=\"sk-container\" hidden><div class=\"sk-item\"><div class=\"sk-estimator sk-toggleable\"><input class=\"sk-toggleable__control sk-hidden--visually\" id=\"sk-estimator-id-1\" type=\"checkbox\" checked><label for=\"sk-estimator-id-1\" class=\"sk-toggleable__label sk-toggleable__label-arrow\">PowerTransformer</label><div class=\"sk-toggleable__content\"><pre>PowerTransformer()</pre></div></div></div></div></div>"
      ],
      "text/plain": [
       "PowerTransformer()"
      ]
     },
     "execution_count": 58,
     "metadata": {},
     "output_type": "execute_result"
    }
   ],
   "source": [
    "# Fitting power transformer to use in train and test sets\n",
    "pt=PowerTransformer()\n",
    "pt.fit(X_train)"
   ]
  },
  {
   "cell_type": "code",
   "execution_count": 59,
   "id": "4380a4e8",
   "metadata": {},
   "outputs": [],
   "source": [
    "# Transforming train and test sets\n",
    "X_train=pt.transform(X_train)\n",
    "X_test=pt.transform(X_test)"
   ]
  },
  {
   "cell_type": "markdown",
   "id": "7c0935ea",
   "metadata": {},
   "source": [
    "## CREATING LINEAR REGRESSION MODEL, TRAIN & TEST IT"
   ]
  },
  {
   "cell_type": "code",
   "execution_count": 60,
   "id": "7fdda678",
   "metadata": {},
   "outputs": [],
   "source": [
    "from sklearn.linear_model import LinearRegression\n",
    "from sklearn.metrics import mean_squared_error as mse\n",
    "import matplotlib.pyplot as plt\n",
    "import numpy as np\n",
    "from sklearn.metrics import r2_score"
   ]
  },
  {
   "cell_type": "code",
   "execution_count": 61,
   "id": "f7f6a381",
   "metadata": {},
   "outputs": [],
   "source": [
    "lr=LinearRegression()"
   ]
  },
  {
   "cell_type": "code",
   "execution_count": 62,
   "id": "cfc1a8a9",
   "metadata": {},
   "outputs": [
    {
     "data": {
      "text/plain": [
       "array([1227.13563526])"
      ]
     },
     "execution_count": 62,
     "metadata": {},
     "output_type": "execute_result"
    }
   ],
   "source": [
    "#creating model\n",
    "model=lr.fit(X_train,y_train)\n",
    "lr.intercept_"
   ]
  },
  {
   "cell_type": "code",
   "execution_count": 63,
   "id": "c661d032",
   "metadata": {},
   "outputs": [
    {
     "data": {
      "text/plain": [
       "<Axes: xlabel='coeff', ylabel='name'>"
      ]
     },
     "execution_count": 63,
     "metadata": {},
     "output_type": "execute_result"
    },
    {
     "data": {
      "image/png": "[encoded data removed]",
      "text/plain": [
       "<Figure size 1000x2000 with 1 Axes>"
      ]
     },
     "metadata": {},
     "output_type": "display_data"
    }
   ],
   "source": [
    "#visualizing\n",
    "feature_names1=list(X.columns)\n",
    "coefficients1 = model.coef_\n",
    "coefficients1=[i for i in coefficients1[0]]\n",
    "\n",
    "fi_dict1 = {\"name\":feature_names1,\"coeff\":coefficients1}\n",
    "fi_df1 = pd.DataFrame(fi_dict1)\n",
    "fi_df1\n",
    "plt.figure(figsize=(10, 20))\n",
    "sns.barplot(y = fi_df1[\"name\"],x =fi_df1[\"coeff\"])"
   ]
  },
  {
   "cell_type": "code",
   "execution_count": 64,
   "id": "aa191733",
   "metadata": {},
   "outputs": [],
   "source": [
    "#test model\n",
    "y_pred=pd.DataFrame(lr.predict(X_test))"
   ]
  },
  {
   "cell_type": "code",
   "execution_count": 65,
   "id": "17919b28",
   "metadata": {},
   "outputs": [
    {
     "name": "stdout",
     "output_type": "stream",
     "text": [
      "mse_full:51900.9351396479\n",
      "RMSE:227.81776739237856\n"
     ]
    }
   ],
   "source": [
    "#calculating mean errors\n",
    "MSE_full=mse(y_pred,y_test)\n",
    "RMSE_full=mse(y_pred,y_test, squared=False)\n",
    "print(f\"mse_full:{MSE_full}\\nRMSE:{RMSE_full}\")"
   ]
  },
  {
   "cell_type": "code",
   "execution_count": 66,
   "id": "a6fccd31",
   "metadata": {},
   "outputs": [
    {
     "data": {
      "text/plain": [
       "0.8022236805426369"
      ]
     },
     "execution_count": 66,
     "metadata": {},
     "output_type": "execute_result"
    }
   ],
   "source": [
    "#calculating R2 for predictions\n",
    "r2_score(y_test,y_pred)"
   ]
  },
  {
   "cell_type": "code",
   "execution_count": 67,
   "id": "2eb7ebd9",
   "metadata": {},
   "outputs": [
    {
     "data": {
      "text/plain": [
       "0.7905476553260256"
      ]
     },
     "execution_count": 67,
     "metadata": {},
     "output_type": "execute_result"
    }
   ],
   "source": [
    "#calculating r2_score for train set\n",
    "y_train_pred=pd.DataFrame(lr.predict(X_train))\n",
    "r2_score(y_train,y_train_pred)"
   ]
  },
  {
   "cell_type": "code",
   "execution_count": 68,
   "id": "3f4cebf8",
   "metadata": {},
   "outputs": [
    {
     "data": {
      "text/html": [
       "<div>\n",
       "<style scoped>\n",
       "    .dataframe tbody tr th:only-of-type {\n",
       "        vertical-align: middle;\n",
       "    }\n",
       "\n",
       "    .dataframe tbody tr th {\n",
       "        vertical-align: top;\n",
       "    }\n",
       "\n",
       "    .dataframe thead th {\n",
       "        text-align: right;\n",
       "    }\n",
       "</style>\n",
       "<table border=\"1\" class=\"dataframe\">\n",
       "  <thead>\n",
       "    <tr style=\"text-align: right;\">\n",
       "      <th></th>\n",
       "      <th>0</th>\n",
       "    </tr>\n",
       "  </thead>\n",
       "  <tbody>\n",
       "    <tr>\n",
       "      <th>0</th>\n",
       "      <td>1824.795792</td>\n",
       "    </tr>\n",
       "    <tr>\n",
       "      <th>1</th>\n",
       "      <td>706.225479</td>\n",
       "    </tr>\n",
       "    <tr>\n",
       "      <th>2</th>\n",
       "      <td>562.170792</td>\n",
       "    </tr>\n",
       "    <tr>\n",
       "      <th>3</th>\n",
       "      <td>976.108292</td>\n",
       "    </tr>\n",
       "    <tr>\n",
       "      <th>4</th>\n",
       "      <td>1176.358292</td>\n",
       "    </tr>\n",
       "  </tbody>\n",
       "</table>\n",
       "</div>"
      ],
      "text/plain": [
       "             0\n",
       "0  1824.795792\n",
       "1   706.225479\n",
       "2   562.170792\n",
       "3   976.108292\n",
       "4  1176.358292"
      ]
     },
     "execution_count": 68,
     "metadata": {},
     "output_type": "execute_result"
    }
   ],
   "source": [
    "y_train_pred=pd.DataFrame(y_train_pred)\n",
    "y_train_pred.head()"
   ]
  },
  {
   "cell_type": "code",
   "execution_count": 69,
   "id": "fddd5734",
   "metadata": {},
   "outputs": [
    {
     "data": {
      "text/html": [
       "<div>\n",
       "<style scoped>\n",
       "    .dataframe tbody tr th:only-of-type {\n",
       "        vertical-align: middle;\n",
       "    }\n",
       "\n",
       "    .dataframe tbody tr th {\n",
       "        vertical-align: top;\n",
       "    }\n",
       "\n",
       "    .dataframe thead th {\n",
       "        text-align: right;\n",
       "    }\n",
       "</style>\n",
       "<table border=\"1\" class=\"dataframe\">\n",
       "  <thead>\n",
       "    <tr style=\"text-align: right;\">\n",
       "      <th></th>\n",
       "      <th>baserent</th>\n",
       "    </tr>\n",
       "  </thead>\n",
       "  <tbody>\n",
       "    <tr>\n",
       "      <th>100</th>\n",
       "      <td>1715.0</td>\n",
       "    </tr>\n",
       "    <tr>\n",
       "      <th>274</th>\n",
       "      <td>770.0</td>\n",
       "    </tr>\n",
       "    <tr>\n",
       "      <th>1632</th>\n",
       "      <td>675.0</td>\n",
       "    </tr>\n",
       "    <tr>\n",
       "      <th>353</th>\n",
       "      <td>950.0</td>\n",
       "    </tr>\n",
       "    <tr>\n",
       "      <th>101</th>\n",
       "      <td>1100.0</td>\n",
       "    </tr>\n",
       "  </tbody>\n",
       "</table>\n",
       "</div>"
      ],
      "text/plain": [
       "      baserent\n",
       "100     1715.0\n",
       "274      770.0\n",
       "1632     675.0\n",
       "353      950.0\n",
       "101     1100.0"
      ]
     },
     "execution_count": 69,
     "metadata": {},
     "output_type": "execute_result"
    }
   ],
   "source": [
    "y_train.head()"
   ]
  },
  {
   "cell_type": "code",
   "execution_count": 99,
   "id": "d1f790fb",
   "metadata": {},
   "outputs": [],
   "source": [
    "# Creating user interface - Getting input variables from users\n",
    "def input_data():\n",
    "    column_names = ['livingspace', 'norooms', 'floor', 'energyefficiencyclass', 'balcony', 'haskitchen', 'cellar', 'lift', 'garden','petsallowed', 'geo_krs']\n",
    "    df_input=pd.DataFrame(columns=column_names)\n",
    "    row_index = 1\n",
    "    for i in column_names:\n",
    "        if i=='livingspace':\n",
    "            x=input('What is the size of the appartment? Input a number of sqr m: ')\n",
    "            x=int(x)\n",
    "            df_input.loc[row_index, i] = x\n",
    "        elif i=='norooms':\n",
    "            x=input('How many rooms are in the appartment? Input a number of rooms: ')\n",
    "            x=int(x)\n",
    "            df_input.loc[row_index, i] = x\n",
    "        elif i=='floor':\n",
    "            x=input('What floor is it at? Input a number: ')\n",
    "            x=int(x)\n",
    "            df_input.loc[row_index, i] = x\n",
    "        elif i=='energyefficiencyclass':\n",
    "            x=input('What energy efficiency class is it? Input a letter: ')\n",
    "            x=x.upper()\n",
    "            if x=='A+':\n",
    "                x='A_PLUS'\n",
    "            df_input.loc[row_index, i] = x\n",
    "        elif i=='balcony':\n",
    "            x=input('Does it have a balcony? Say yes or no: ')\n",
    "            if x=='yes':\n",
    "                x=True\n",
    "            elif x=='no':\n",
    "                x=False\n",
    "            df_input.loc[row_index, i] = x\n",
    "        elif i=='haskitchen':\n",
    "            x=input('Does it have kitchen? Say yes or no: ')\n",
    "            if x=='yes':\n",
    "                x=True\n",
    "            elif x=='no':\n",
    "                x=False\n",
    "            df_input.loc[row_index, i] = x\n",
    "        elif i=='cellar':\n",
    "            x=input('Does it have cellar? Say yes or no: ')\n",
    "            if x=='yes':\n",
    "                x=True\n",
    "            elif x=='no':\n",
    "                x=False\n",
    "            df_input.loc[row_index, i] = x\n",
    "        elif i=='lift':\n",
    "            x=input('Does it have lift? Say yes or no: ')\n",
    "            if x=='yes':\n",
    "                x=True\n",
    "            elif x=='no':\n",
    "                x=False\n",
    "            df_input.loc[row_index, i] = x\n",
    "        elif i=='garden':\n",
    "            x=input('Does it have garden? Say yes or no: ')\n",
    "            if x=='yes':\n",
    "                x=True\n",
    "            elif x=='no':\n",
    "                x=False\n",
    "            df_input.loc[row_index, i] = x \n",
    "        elif i=='petsallowed':\n",
    "            x=input('Are the pets allowed in this appartment? Input yes, no or negotiable: ')\n",
    "            df_input.loc[row_index, i] = x \n",
    "        elif i=='geo_krs':\n",
    "            x=input('What is the city? Please choose one of those in the list: ')\n",
    "            df_input.loc[row_index, i] = x\n",
    "    return df_input"
   ]
  },
  {
   "cell_type": "code",
   "execution_count": 72,
   "id": "b2309098",
   "metadata": {},
   "outputs": [],
   "source": [
    "#FUNCTION FOR PREDICTION\n",
    "def predict(input_df):\n",
    "    #splitting df into numericals and categoricals\n",
    "    input_df['livingspace'] = input_df['livingspace'].astype(float)\n",
    "    input_df['norooms'] = input_df['norooms'].astype(float)\n",
    "    input_df['floor'] = input_df['floor'].astype(float)\n",
    "\n",
    "    categoricals_input = input_df.select_dtypes(include=[object, bool])\n",
    "    numericals_input = input_df.select_dtypes(include = 'number').reset_index()\n",
    "\n",
    "    #splitting ordinals and categoricals\n",
    "    ordinals_input = categoricals_input[[\"energyefficiencyclass\", \"balcony\",\"haskitchen\", \"cellar\", \"lift\", \"garden\", \"petsallowed\"]].reset_index()\n",
    "    nominals_input = categoricals_input.drop(columns=[\"energyefficiencyclass\", \"balcony\",\"haskitchen\", \"cellar\", \"lift\", \"garden\",\"petsallowed\"]).reset_index()\n",
    "\n",
    "    #encoding energy efficiency class \n",
    "    enc_input = OrdinalEncoder(categories=[[\"F\", \"E\", \"D\", \"C\", \"B\",\"A\", \"A_PLUS\"]])\n",
    "    ordinals_input[\"energyefficiencyclass\"] = enc_input.fit_transform(ordinals_input[[\"energyefficiencyclass\"]])\n",
    "    \n",
    "    #encoding haskitchen\n",
    "    \n",
    "    ordinals_input[\"haskitchen\"] = ordinals_input[\"haskitchen\"].astype(object)\n",
    "    enc_input = OrdinalEncoder(categories=[[False, True]])\n",
    "    ordinals_input[\"haskitchen\"] = enc_input.fit_transform(ordinals_input[[\"haskitchen\"]])\n",
    "    \n",
    "    #encoding balcony\n",
    "\n",
    "    ordinals_input[\"balcony\"] = ordinals_input[\"balcony\"].astype(object)\n",
    "    enc = OrdinalEncoder(categories=[[False, True]])\n",
    "    ordinals_input[\"balcony\"] = enc_input.fit_transform(ordinals_input[[\"balcony\"]])\n",
    "\n",
    "    #encoding cellar\n",
    "    ordinals_input[\"cellar\"] = ordinals_input[\"cellar\"].astype(object)\n",
    "    enc = OrdinalEncoder(categories=[[False, True]])\n",
    "    ordinals_input[\"cellar\"] = enc_input.fit_transform(ordinals_input[[\"cellar\"]])\n",
    "    \n",
    "    #encoding lift\n",
    "    \n",
    "    ordinals_input[\"lift\"] = ordinals_input[\"lift\"].astype(object)\n",
    "    enc = OrdinalEncoder(categories=[[False, True]])\n",
    "    ordinals_input[\"lift\"] = enc_input.fit_transform(ordinals_input[[\"lift\"]])\n",
    "\n",
    "    #encoding garden\n",
    "\n",
    "    ordinals_input[\"garden\"] = ordinals_input[\"garden\"].astype(object)\n",
    "    enc_input = OrdinalEncoder(categories=[[False, True]])\n",
    "    ordinals_input[\"garden\"] = enc_input.fit_transform(ordinals_input[[\"garden\"]])\n",
    "\n",
    "    #encoding petsallowed\n",
    "\n",
    "    enc_input = OrdinalEncoder(categories=[['no', 'negotiable', 'yes']])\n",
    "    ordinals_input[\"petsallowed\"] = enc_input.fit_transform(ordinals_input[[\"petsallowed\"]])\n",
    "\n",
    "    #making dunnies from nominals\n",
    "    nominals_input = pd.get_dummies(nominals_input, dtype=int)\n",
    "    list_columns=final_df.columns.to_list()\n",
    "    city_remove='geo_krs_'+input_df.loc[1, 'geo_krs']\n",
    "    values_to_remove=['baserent','livingspace', 'norooms', 'floor', 'energyefficiencyclass', 'balcony', 'haskitchen', 'cellar', 'lift', 'garden','petsallowed', city_remove]\n",
    "    for value in values_to_remove:\n",
    "        if value in list_columns:\n",
    "            list_columns.remove(value)\n",
    "    for col_name in list_columns:\n",
    "        nominals_input[col_name] = 0\n",
    "        \n",
    "        #concating categoricals and numericals\n",
    "    X_input = pd.concat([numericals_input,ordinals_input,nominals_input], axis=1).drop('index', axis=1)\n",
    "    X_input\n",
    "\n",
    "    # Reorder the columns in X_input to match the order in X_train\n",
    "    X_input = X_input.reindex(columns=columns_order)\n",
    "    #pt1=PowerTransformer()\n",
    "    #pt1.fit(X_train)\n",
    "    X_input_transformed=pt.transform(X_input)\n",
    "    y_pred_input=lr.predict(X_input_transformed)   \n",
    "    #pt1.fit(y_train)\n",
    "    #y_pred_input=np.round(pt1.inverse_transform(y_pred_input))\n",
    "\n",
    "    print(f'The monthly base rent will be: {y_pred_input} EUR')\n"
   ]
  },
  {
   "cell_type": "code",
   "execution_count": 73,
   "id": "689d937e",
   "metadata": {},
   "outputs": [
    {
     "name": "stdout",
     "output_type": "stream",
     "text": [
      "What is the size of the appartment? Input a number of sqr m: 75\n",
      "How many rooms are in the appartment? Input a number of rooms: 3\n",
      "What floor is it at? Input a number: 8\n",
      "What energy efficiency class is it? Input a letter: B\n",
      "Does it have a balcony? Say yes or no: no\n",
      "Does it have kitchen? Say yes or no: yes\n",
      "Does it have cellar? Say yes or no: yes\n",
      "Does it have lift? Say yes or no: yes\n",
      "Does it have garden? Say yes or no: no\n",
      "Are the pets allowed in this appartment? Input yes, no or negotiable: yes\n",
      "What is the city? Please choose one of those in the list: Berlin\n",
      "The monthly base rent will be: [[1500.51844776]] EUR\n"
     ]
    }
   ],
   "source": [
    "input_df=input_data()\n",
    "predict(input_df)"
   ]
  }
 ],
 "metadata": {
  "kernelspec": {
   "display_name": "Python 3 (ipykernel)",
   "language": "python",
   "name": "python3"
  },
  "language_info": {
   "codemirror_mode": {
    "name": "ipython",
    "version": 3
   },
   "file_extension": ".py",
   "mimetype": "text/x-python",
   "name": "python",
   "nbconvert_exporter": "python",
   "pygments_lexer": "ipython3",
   "version": "3.11.5"
  }
 },
 "nbformat": 4,
 "nbformat_minor": 5
}
